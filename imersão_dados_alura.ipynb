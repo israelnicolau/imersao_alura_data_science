{
  "nbformat": 4,
  "nbformat_minor": 0,
  "metadata": {
    "colab": {
      "name": "imersão_dados_alura",
      "provenance": [],
      "collapsed_sections": [],
      "authorship_tag": "ABX9TyOK4gcX2JDM51JrKO1tOe5U",
      "include_colab_link": true
    },
    "kernelspec": {
      "name": "python3",
      "display_name": "Python 3"
    },
    "language_info": {
      "name": "python"
    }
  },
  "cells": [
    {
      "cell_type": "markdown",
      "metadata": {
        "id": "view-in-github",
        "colab_type": "text"
      },
      "source": [
        "<a href=\"https://colab.research.google.com/github/israelnicolau/imersao_alura_data_science/blob/main/imers%C3%A3o_dados_alura.ipynb\" target=\"_parent\"><img src=\"https://colab.research.google.com/assets/colab-badge.svg\" alt=\"Open In Colab\"/></a>"
      ]
    },
    {
      "cell_type": "markdown",
      "metadata": {
        "id": "JZGz2FPOrOUU"
      },
      "source": [
        "Importar bibliotecas"
      ]
    },
    {
      "cell_type": "code",
      "metadata": {
        "id": "ExDNmOPmrDbO"
      },
      "source": [
        "import pandas as pd\n",
        "import matplotlib.pyplot as plt\n",
        "import seaborn as sns\n",
        "import numpy as np"
      ],
      "execution_count": 26,
      "outputs": []
    },
    {
      "cell_type": "markdown",
      "metadata": {
        "id": "cBhzYTmAOQWa"
      },
      "source": [
        "Abrir e exibir planilha\n"
      ]
    },
    {
      "cell_type": "code",
      "metadata": {
        "id": "wr388SJ1gA_Q"
      },
      "source": [
        "url_dados =\"https://github.com/alura-cursos/imersaodados3/blob/main/dados/dados_experimentos.zip?raw=true\" \n",
        "dados = pd.read_csv(url_dados, compression = \"zip\")\n",
        "dados"
      ],
      "execution_count": 3,
      "outputs": []
    },
    {
      "cell_type": "markdown",
      "metadata": {
        "id": "fR7nwTHOPk0U"
      },
      "source": [
        "Avaliar colunas\n"
      ]
    },
    {
      "cell_type": "code",
      "metadata": {
        "id": "2HEloyBOOZYA"
      },
      "source": [
        "dados['tratamento']"
      ],
      "execution_count": null,
      "outputs": []
    },
    {
      "cell_type": "code",
      "metadata": {
        "id": "M-k5caj_OLs4"
      },
      "source": [
        "dados['tratamento'].unique()"
      ],
      "execution_count": null,
      "outputs": []
    },
    {
      "cell_type": "code",
      "metadata": {
        "id": "pWMclXq0O7rN"
      },
      "source": [
        "dados['tempo'].unique()"
      ],
      "execution_count": null,
      "outputs": []
    },
    {
      "cell_type": "code",
      "metadata": {
        "id": "pLuvUCYMPgke"
      },
      "source": [
        "dados['dose'].unique()"
      ],
      "execution_count": null,
      "outputs": []
    },
    {
      "cell_type": "code",
      "metadata": {
        "id": "dFDMGdZvPzWs"
      },
      "source": [
        "dados['droga'].unique()"
      ],
      "execution_count": null,
      "outputs": []
    },
    {
      "cell_type": "code",
      "metadata": {
        "id": "R0wvuPdqQXLg"
      },
      "source": [
        "dados['g-0'].unique()"
      ],
      "execution_count": null,
      "outputs": []
    },
    {
      "cell_type": "markdown",
      "metadata": {
        "id": "S2gMcZGmQsnS"
      },
      "source": [
        "Quantificar as variáveis chave"
      ]
    },
    {
      "cell_type": "code",
      "metadata": {
        "id": "WR7-tFgiQ3vz"
      },
      "source": [
        "dados['tratamento'].value_counts()"
      ],
      "execution_count": null,
      "outputs": []
    },
    {
      "cell_type": "code",
      "metadata": {
        "id": "6S31jPdqUB8P"
      },
      "source": [
        "dados['dose'].value_counts()"
      ],
      "execution_count": null,
      "outputs": []
    },
    {
      "cell_type": "code",
      "metadata": {
        "id": "giWXEv7qUy1T"
      },
      "source": [
        "dados['tratamento'].value_counts(normalize=True)"
      ],
      "execution_count": null,
      "outputs": []
    },
    {
      "cell_type": "code",
      "metadata": {
        "id": "Hr6zN6inVDO0"
      },
      "source": [
        "dados['dose'].value_counts(normalize=True)"
      ],
      "execution_count": null,
      "outputs": []
    },
    {
      "cell_type": "code",
      "metadata": {
        "id": "WbZ_Ac6ZVRjX"
      },
      "source": [
        "dados['tratamento'].value_counts().plot.pie()"
      ],
      "execution_count": null,
      "outputs": []
    },
    {
      "cell_type": "code",
      "metadata": {
        "id": "CDnBiLxnVc41"
      },
      "source": [
        "dados['tempo'].value_counts().plot.pie()"
      ],
      "execution_count": null,
      "outputs": []
    },
    {
      "cell_type": "code",
      "metadata": {
        "id": "CUAKQ4uOVmZc"
      },
      "source": [
        "dados['tempo'].value_counts().plot.bar()"
      ],
      "execution_count": null,
      "outputs": []
    },
    {
      "cell_type": "code",
      "metadata": {
        "id": "0JzczmWEV3X3"
      },
      "source": [
        "dados['g-0'] > 0"
      ],
      "execution_count": null,
      "outputs": []
    },
    {
      "cell_type": "code",
      "metadata": {
        "id": "fepvaGdoWL1G"
      },
      "source": [
        "dados_filtrados = dados[dados['g-0'] > 0]\n",
        "dados_filtrados.head()"
      ],
      "execution_count": null,
      "outputs": []
    },
    {
      "cell_type": "markdown",
      "metadata": {
        "id": "LkhdjLlmXFII"
      },
      "source": [
        "Renomear e definir nome da coluna\n"
      ]
    },
    {
      "cell_type": "code",
      "metadata": {
        "id": "CbOw2mM4tMGP",
        "colab": {
          "base_uri": "https://localhost:8080/",
          "height": 253
        },
        "outputId": "e8ae4a11-d14f-4b4f-b45d-d41d36d6cce3"
      },
      "source": [
        "mapa = {'droga':'composto'}\n",
        "dados.rename(columns=mapa, inplace=True)\n",
        "dados.head()\n"
      ],
      "execution_count": null,
      "outputs": [
        {
          "output_type": "execute_result",
          "data": {
            "text/html": [
              "<div>\n",
              "<style scoped>\n",
              "    .dataframe tbody tr th:only-of-type {\n",
              "        vertical-align: middle;\n",
              "    }\n",
              "\n",
              "    .dataframe tbody tr th {\n",
              "        vertical-align: top;\n",
              "    }\n",
              "\n",
              "    .dataframe thead th {\n",
              "        text-align: right;\n",
              "    }\n",
              "</style>\n",
              "<table border=\"1\" class=\"dataframe\">\n",
              "  <thead>\n",
              "    <tr style=\"text-align: right;\">\n",
              "      <th></th>\n",
              "      <th>id</th>\n",
              "      <th>tratamento</th>\n",
              "      <th>tempo</th>\n",
              "      <th>dose</th>\n",
              "      <th>composto</th>\n",
              "      <th>g-0</th>\n",
              "      <th>g-1</th>\n",
              "      <th>g-2</th>\n",
              "      <th>g-3</th>\n",
              "      <th>g-4</th>\n",
              "      <th>g-5</th>\n",
              "      <th>g-6</th>\n",
              "      <th>g-7</th>\n",
              "      <th>g-8</th>\n",
              "      <th>g-9</th>\n",
              "      <th>g-10</th>\n",
              "      <th>g-11</th>\n",
              "      <th>g-12</th>\n",
              "      <th>g-13</th>\n",
              "      <th>g-14</th>\n",
              "      <th>g-15</th>\n",
              "      <th>g-16</th>\n",
              "      <th>g-17</th>\n",
              "      <th>g-18</th>\n",
              "      <th>g-19</th>\n",
              "      <th>g-20</th>\n",
              "      <th>g-21</th>\n",
              "      <th>g-22</th>\n",
              "      <th>g-23</th>\n",
              "      <th>g-24</th>\n",
              "      <th>g-25</th>\n",
              "      <th>g-26</th>\n",
              "      <th>g-27</th>\n",
              "      <th>g-28</th>\n",
              "      <th>g-29</th>\n",
              "      <th>g-30</th>\n",
              "      <th>g-31</th>\n",
              "      <th>g-32</th>\n",
              "      <th>g-33</th>\n",
              "      <th>g-34</th>\n",
              "      <th>...</th>\n",
              "      <th>c-60</th>\n",
              "      <th>c-61</th>\n",
              "      <th>c-62</th>\n",
              "      <th>c-63</th>\n",
              "      <th>c-64</th>\n",
              "      <th>c-65</th>\n",
              "      <th>c-66</th>\n",
              "      <th>c-67</th>\n",
              "      <th>c-68</th>\n",
              "      <th>c-69</th>\n",
              "      <th>c-70</th>\n",
              "      <th>c-71</th>\n",
              "      <th>c-72</th>\n",
              "      <th>c-73</th>\n",
              "      <th>c-74</th>\n",
              "      <th>c-75</th>\n",
              "      <th>c-76</th>\n",
              "      <th>c-77</th>\n",
              "      <th>c-78</th>\n",
              "      <th>c-79</th>\n",
              "      <th>c-80</th>\n",
              "      <th>c-81</th>\n",
              "      <th>c-82</th>\n",
              "      <th>c-83</th>\n",
              "      <th>c-84</th>\n",
              "      <th>c-85</th>\n",
              "      <th>c-86</th>\n",
              "      <th>c-87</th>\n",
              "      <th>c-88</th>\n",
              "      <th>c-89</th>\n",
              "      <th>c-90</th>\n",
              "      <th>c-91</th>\n",
              "      <th>c-92</th>\n",
              "      <th>c-93</th>\n",
              "      <th>c-94</th>\n",
              "      <th>c-95</th>\n",
              "      <th>c-96</th>\n",
              "      <th>c-97</th>\n",
              "      <th>c-98</th>\n",
              "      <th>c-99</th>\n",
              "    </tr>\n",
              "  </thead>\n",
              "  <tbody>\n",
              "    <tr>\n",
              "      <th>0</th>\n",
              "      <td>id_000644bb2</td>\n",
              "      <td>com_droga</td>\n",
              "      <td>24</td>\n",
              "      <td>D1</td>\n",
              "      <td>b68db1d53</td>\n",
              "      <td>1.0620</td>\n",
              "      <td>0.5577</td>\n",
              "      <td>-0.2479</td>\n",
              "      <td>-0.6208</td>\n",
              "      <td>-0.1944</td>\n",
              "      <td>-1.0120</td>\n",
              "      <td>-1.0220</td>\n",
              "      <td>-0.0326</td>\n",
              "      <td>0.5548</td>\n",
              "      <td>-0.0921</td>\n",
              "      <td>1.1830</td>\n",
              "      <td>0.1530</td>\n",
              "      <td>0.5574</td>\n",
              "      <td>-0.4015</td>\n",
              "      <td>0.1789</td>\n",
              "      <td>-0.6528</td>\n",
              "      <td>-0.7969</td>\n",
              "      <td>0.6342</td>\n",
              "      <td>0.1778</td>\n",
              "      <td>-0.3694</td>\n",
              "      <td>-0.5688</td>\n",
              "      <td>-1.1360</td>\n",
              "      <td>-1.1880</td>\n",
              "      <td>0.6940</td>\n",
              "      <td>0.4393</td>\n",
              "      <td>0.2664</td>\n",
              "      <td>0.1907</td>\n",
              "      <td>0.1628</td>\n",
              "      <td>-0.2853</td>\n",
              "      <td>0.5819</td>\n",
              "      <td>0.2934</td>\n",
              "      <td>-0.5584</td>\n",
              "      <td>-0.0916</td>\n",
              "      <td>-0.3010</td>\n",
              "      <td>-0.1537</td>\n",
              "      <td>...</td>\n",
              "      <td>0.4805</td>\n",
              "      <td>0.4965</td>\n",
              "      <td>0.3680</td>\n",
              "      <td>0.8427</td>\n",
              "      <td>0.1042</td>\n",
              "      <td>0.1403</td>\n",
              "      <td>0.1758</td>\n",
              "      <td>1.2570</td>\n",
              "      <td>-0.5979</td>\n",
              "      <td>1.2250</td>\n",
              "      <td>-0.0553</td>\n",
              "      <td>0.7351</td>\n",
              "      <td>0.5810</td>\n",
              "      <td>0.9590</td>\n",
              "      <td>0.2427</td>\n",
              "      <td>0.0495</td>\n",
              "      <td>0.4141</td>\n",
              "      <td>0.8432</td>\n",
              "      <td>0.6162</td>\n",
              "      <td>-0.7318</td>\n",
              "      <td>1.2120</td>\n",
              "      <td>0.6362</td>\n",
              "      <td>-0.4427</td>\n",
              "      <td>0.1288</td>\n",
              "      <td>1.4840</td>\n",
              "      <td>0.1799</td>\n",
              "      <td>0.5367</td>\n",
              "      <td>-0.1111</td>\n",
              "      <td>-1.0120</td>\n",
              "      <td>0.6685</td>\n",
              "      <td>0.2862</td>\n",
              "      <td>0.2584</td>\n",
              "      <td>0.8076</td>\n",
              "      <td>0.5523</td>\n",
              "      <td>-0.1912</td>\n",
              "      <td>0.6584</td>\n",
              "      <td>-0.3981</td>\n",
              "      <td>0.2139</td>\n",
              "      <td>0.3801</td>\n",
              "      <td>0.4176</td>\n",
              "    </tr>\n",
              "    <tr>\n",
              "      <th>1</th>\n",
              "      <td>id_000779bfc</td>\n",
              "      <td>com_droga</td>\n",
              "      <td>72</td>\n",
              "      <td>D1</td>\n",
              "      <td>df89a8e5a</td>\n",
              "      <td>0.0743</td>\n",
              "      <td>0.4087</td>\n",
              "      <td>0.2991</td>\n",
              "      <td>0.0604</td>\n",
              "      <td>1.0190</td>\n",
              "      <td>0.5207</td>\n",
              "      <td>0.2341</td>\n",
              "      <td>0.3372</td>\n",
              "      <td>-0.4047</td>\n",
              "      <td>0.8507</td>\n",
              "      <td>-1.1520</td>\n",
              "      <td>-0.4201</td>\n",
              "      <td>-0.0958</td>\n",
              "      <td>0.4590</td>\n",
              "      <td>0.0803</td>\n",
              "      <td>0.2250</td>\n",
              "      <td>0.5293</td>\n",
              "      <td>0.2839</td>\n",
              "      <td>-0.3494</td>\n",
              "      <td>0.2883</td>\n",
              "      <td>0.9449</td>\n",
              "      <td>-0.1646</td>\n",
              "      <td>-0.2657</td>\n",
              "      <td>-0.3372</td>\n",
              "      <td>0.3135</td>\n",
              "      <td>-0.4316</td>\n",
              "      <td>0.4773</td>\n",
              "      <td>0.2075</td>\n",
              "      <td>-0.4216</td>\n",
              "      <td>-0.1161</td>\n",
              "      <td>-0.0499</td>\n",
              "      <td>-0.2627</td>\n",
              "      <td>0.9959</td>\n",
              "      <td>-0.2483</td>\n",
              "      <td>0.2655</td>\n",
              "      <td>...</td>\n",
              "      <td>0.4083</td>\n",
              "      <td>0.0319</td>\n",
              "      <td>0.3905</td>\n",
              "      <td>0.7099</td>\n",
              "      <td>0.2912</td>\n",
              "      <td>0.4151</td>\n",
              "      <td>-0.2840</td>\n",
              "      <td>-0.3104</td>\n",
              "      <td>-0.6373</td>\n",
              "      <td>0.2887</td>\n",
              "      <td>-0.0765</td>\n",
              "      <td>0.2539</td>\n",
              "      <td>0.4443</td>\n",
              "      <td>0.5932</td>\n",
              "      <td>0.2031</td>\n",
              "      <td>0.7639</td>\n",
              "      <td>0.5499</td>\n",
              "      <td>-0.3322</td>\n",
              "      <td>-0.0977</td>\n",
              "      <td>0.4329</td>\n",
              "      <td>-0.2782</td>\n",
              "      <td>0.7827</td>\n",
              "      <td>0.5934</td>\n",
              "      <td>0.3402</td>\n",
              "      <td>0.1499</td>\n",
              "      <td>0.4420</td>\n",
              "      <td>0.9366</td>\n",
              "      <td>0.8193</td>\n",
              "      <td>-0.4236</td>\n",
              "      <td>0.3192</td>\n",
              "      <td>-0.4265</td>\n",
              "      <td>0.7543</td>\n",
              "      <td>0.4708</td>\n",
              "      <td>0.0230</td>\n",
              "      <td>0.2957</td>\n",
              "      <td>0.4899</td>\n",
              "      <td>0.1522</td>\n",
              "      <td>0.1241</td>\n",
              "      <td>0.6077</td>\n",
              "      <td>0.7371</td>\n",
              "    </tr>\n",
              "    <tr>\n",
              "      <th>2</th>\n",
              "      <td>id_000a6266a</td>\n",
              "      <td>com_droga</td>\n",
              "      <td>48</td>\n",
              "      <td>D1</td>\n",
              "      <td>18bb41b2c</td>\n",
              "      <td>0.6280</td>\n",
              "      <td>0.5817</td>\n",
              "      <td>1.5540</td>\n",
              "      <td>-0.0764</td>\n",
              "      <td>-0.0323</td>\n",
              "      <td>1.2390</td>\n",
              "      <td>0.1715</td>\n",
              "      <td>0.2155</td>\n",
              "      <td>0.0065</td>\n",
              "      <td>1.2300</td>\n",
              "      <td>-0.4797</td>\n",
              "      <td>-0.5631</td>\n",
              "      <td>-0.0366</td>\n",
              "      <td>-1.8300</td>\n",
              "      <td>0.6057</td>\n",
              "      <td>-0.3278</td>\n",
              "      <td>0.6042</td>\n",
              "      <td>-0.3075</td>\n",
              "      <td>-0.1147</td>\n",
              "      <td>-0.0570</td>\n",
              "      <td>-0.0799</td>\n",
              "      <td>-0.8181</td>\n",
              "      <td>-1.5320</td>\n",
              "      <td>0.2307</td>\n",
              "      <td>0.4901</td>\n",
              "      <td>0.4780</td>\n",
              "      <td>-1.3970</td>\n",
              "      <td>4.6240</td>\n",
              "      <td>-0.0437</td>\n",
              "      <td>1.2870</td>\n",
              "      <td>-1.8530</td>\n",
              "      <td>0.6069</td>\n",
              "      <td>0.4290</td>\n",
              "      <td>0.1783</td>\n",
              "      <td>0.0018</td>\n",
              "      <td>...</td>\n",
              "      <td>-0.5477</td>\n",
              "      <td>-0.7576</td>\n",
              "      <td>-0.0444</td>\n",
              "      <td>0.1894</td>\n",
              "      <td>-0.0014</td>\n",
              "      <td>-2.3640</td>\n",
              "      <td>-0.4682</td>\n",
              "      <td>0.1210</td>\n",
              "      <td>-0.5177</td>\n",
              "      <td>-0.0604</td>\n",
              "      <td>0.1682</td>\n",
              "      <td>-0.4436</td>\n",
              "      <td>0.4963</td>\n",
              "      <td>0.1363</td>\n",
              "      <td>0.3335</td>\n",
              "      <td>0.9760</td>\n",
              "      <td>-0.0427</td>\n",
              "      <td>-0.1235</td>\n",
              "      <td>0.0959</td>\n",
              "      <td>0.0690</td>\n",
              "      <td>-0.9416</td>\n",
              "      <td>-0.7548</td>\n",
              "      <td>-0.1109</td>\n",
              "      <td>-0.6272</td>\n",
              "      <td>0.3019</td>\n",
              "      <td>0.1172</td>\n",
              "      <td>0.1093</td>\n",
              "      <td>-0.3113</td>\n",
              "      <td>0.3019</td>\n",
              "      <td>-0.0873</td>\n",
              "      <td>-0.7250</td>\n",
              "      <td>-0.6297</td>\n",
              "      <td>0.6103</td>\n",
              "      <td>0.0223</td>\n",
              "      <td>-1.3240</td>\n",
              "      <td>-0.3174</td>\n",
              "      <td>-0.6417</td>\n",
              "      <td>-0.2187</td>\n",
              "      <td>-1.4080</td>\n",
              "      <td>0.6931</td>\n",
              "    </tr>\n",
              "    <tr>\n",
              "      <th>3</th>\n",
              "      <td>id_0015fd391</td>\n",
              "      <td>com_droga</td>\n",
              "      <td>48</td>\n",
              "      <td>D1</td>\n",
              "      <td>8c7f86626</td>\n",
              "      <td>-0.5138</td>\n",
              "      <td>-0.2491</td>\n",
              "      <td>-0.2656</td>\n",
              "      <td>0.5288</td>\n",
              "      <td>4.0620</td>\n",
              "      <td>-0.8095</td>\n",
              "      <td>-1.9590</td>\n",
              "      <td>0.1792</td>\n",
              "      <td>-0.1321</td>\n",
              "      <td>-1.0600</td>\n",
              "      <td>-0.8269</td>\n",
              "      <td>-0.3584</td>\n",
              "      <td>-0.8511</td>\n",
              "      <td>-0.5844</td>\n",
              "      <td>-2.5690</td>\n",
              "      <td>0.8183</td>\n",
              "      <td>-0.0532</td>\n",
              "      <td>-0.8554</td>\n",
              "      <td>0.1160</td>\n",
              "      <td>-2.3520</td>\n",
              "      <td>2.1200</td>\n",
              "      <td>-1.1580</td>\n",
              "      <td>-0.7191</td>\n",
              "      <td>-0.8004</td>\n",
              "      <td>-1.4670</td>\n",
              "      <td>-0.0107</td>\n",
              "      <td>-0.8995</td>\n",
              "      <td>0.2406</td>\n",
              "      <td>-0.2479</td>\n",
              "      <td>-1.0890</td>\n",
              "      <td>-0.7575</td>\n",
              "      <td>0.0881</td>\n",
              "      <td>-2.7370</td>\n",
              "      <td>0.8745</td>\n",
              "      <td>0.5787</td>\n",
              "      <td>...</td>\n",
              "      <td>-2.1220</td>\n",
              "      <td>-0.3752</td>\n",
              "      <td>-2.3820</td>\n",
              "      <td>-3.7350</td>\n",
              "      <td>-2.9740</td>\n",
              "      <td>-1.4930</td>\n",
              "      <td>-1.6600</td>\n",
              "      <td>-3.1660</td>\n",
              "      <td>0.2816</td>\n",
              "      <td>-0.2990</td>\n",
              "      <td>-1.1870</td>\n",
              "      <td>-0.5044</td>\n",
              "      <td>-1.7750</td>\n",
              "      <td>-1.6120</td>\n",
              "      <td>-0.9215</td>\n",
              "      <td>-1.0810</td>\n",
              "      <td>-3.0520</td>\n",
              "      <td>-3.4470</td>\n",
              "      <td>-2.7740</td>\n",
              "      <td>-1.8460</td>\n",
              "      <td>-0.5568</td>\n",
              "      <td>-3.3960</td>\n",
              "      <td>-2.9510</td>\n",
              "      <td>-1.1550</td>\n",
              "      <td>-3.2620</td>\n",
              "      <td>-1.5390</td>\n",
              "      <td>-2.4600</td>\n",
              "      <td>-0.9417</td>\n",
              "      <td>-1.5550</td>\n",
              "      <td>0.2431</td>\n",
              "      <td>-2.0990</td>\n",
              "      <td>-0.6441</td>\n",
              "      <td>-5.6300</td>\n",
              "      <td>-1.3780</td>\n",
              "      <td>-0.8632</td>\n",
              "      <td>-1.2880</td>\n",
              "      <td>-1.6210</td>\n",
              "      <td>-0.8784</td>\n",
              "      <td>-0.3876</td>\n",
              "      <td>-0.8154</td>\n",
              "    </tr>\n",
              "    <tr>\n",
              "      <th>4</th>\n",
              "      <td>id_001626bd3</td>\n",
              "      <td>com_droga</td>\n",
              "      <td>72</td>\n",
              "      <td>D2</td>\n",
              "      <td>7cbed3131</td>\n",
              "      <td>-0.3254</td>\n",
              "      <td>-0.4009</td>\n",
              "      <td>0.9700</td>\n",
              "      <td>0.6919</td>\n",
              "      <td>1.4180</td>\n",
              "      <td>-0.8244</td>\n",
              "      <td>-0.2800</td>\n",
              "      <td>-0.1498</td>\n",
              "      <td>-0.8789</td>\n",
              "      <td>0.8630</td>\n",
              "      <td>-0.2219</td>\n",
              "      <td>-0.5121</td>\n",
              "      <td>-0.9577</td>\n",
              "      <td>1.1750</td>\n",
              "      <td>0.2042</td>\n",
              "      <td>0.1970</td>\n",
              "      <td>0.1244</td>\n",
              "      <td>-1.7090</td>\n",
              "      <td>-0.3543</td>\n",
              "      <td>-0.5160</td>\n",
              "      <td>-0.3330</td>\n",
              "      <td>-0.2685</td>\n",
              "      <td>0.7649</td>\n",
              "      <td>0.2057</td>\n",
              "      <td>1.3720</td>\n",
              "      <td>0.6835</td>\n",
              "      <td>0.8056</td>\n",
              "      <td>-0.3754</td>\n",
              "      <td>-1.2090</td>\n",
              "      <td>0.2965</td>\n",
              "      <td>-0.0712</td>\n",
              "      <td>0.6389</td>\n",
              "      <td>0.6674</td>\n",
              "      <td>-0.0783</td>\n",
              "      <td>1.1740</td>\n",
              "      <td>...</td>\n",
              "      <td>-0.2274</td>\n",
              "      <td>0.3215</td>\n",
              "      <td>0.1535</td>\n",
              "      <td>-0.4640</td>\n",
              "      <td>-0.5943</td>\n",
              "      <td>0.3973</td>\n",
              "      <td>0.1500</td>\n",
              "      <td>0.5178</td>\n",
              "      <td>0.5159</td>\n",
              "      <td>0.6091</td>\n",
              "      <td>0.1813</td>\n",
              "      <td>-0.4249</td>\n",
              "      <td>0.7832</td>\n",
              "      <td>0.6529</td>\n",
              "      <td>0.5648</td>\n",
              "      <td>0.4817</td>\n",
              "      <td>0.0587</td>\n",
              "      <td>0.5303</td>\n",
              "      <td>0.6376</td>\n",
              "      <td>-0.3966</td>\n",
              "      <td>-1.4950</td>\n",
              "      <td>-0.9625</td>\n",
              "      <td>-0.0541</td>\n",
              "      <td>0.6273</td>\n",
              "      <td>0.4563</td>\n",
              "      <td>0.0698</td>\n",
              "      <td>0.8134</td>\n",
              "      <td>0.1924</td>\n",
              "      <td>0.6054</td>\n",
              "      <td>-0.1824</td>\n",
              "      <td>0.0042</td>\n",
              "      <td>0.0048</td>\n",
              "      <td>0.6670</td>\n",
              "      <td>1.0690</td>\n",
              "      <td>0.5523</td>\n",
              "      <td>-0.3031</td>\n",
              "      <td>0.1094</td>\n",
              "      <td>0.2885</td>\n",
              "      <td>-0.3786</td>\n",
              "      <td>0.7125</td>\n",
              "    </tr>\n",
              "  </tbody>\n",
              "</table>\n",
              "<p>5 rows × 877 columns</p>\n",
              "</div>"
            ],
            "text/plain": [
              "             id tratamento  tempo dose  ...    c-96    c-97    c-98    c-99\n",
              "0  id_000644bb2  com_droga     24   D1  ... -0.3981  0.2139  0.3801  0.4176\n",
              "1  id_000779bfc  com_droga     72   D1  ...  0.1522  0.1241  0.6077  0.7371\n",
              "2  id_000a6266a  com_droga     48   D1  ... -0.6417 -0.2187 -1.4080  0.6931\n",
              "3  id_0015fd391  com_droga     48   D1  ... -1.6210 -0.8784 -0.3876 -0.8154\n",
              "4  id_001626bd3  com_droga     72   D2  ...  0.1094  0.2885 -0.3786  0.7125\n",
              "\n",
              "[5 rows x 877 columns]"
            ]
          },
          "metadata": {
            "tags": []
          },
          "execution_count": 35
        }
      ]
    },
    {
      "cell_type": "markdown",
      "metadata": {
        "id": "rrieKpHMvNIS"
      },
      "source": [
        "Filtrar tabela para manter apenas os 5 compostos mais frequentes"
      ]
    },
    {
      "cell_type": "code",
      "metadata": {
        "id": "kYrt5fNWtmzy"
      },
      "source": [
        "cod_compostos = dados['composto'].value_counts().index[:5]\n",
        "cod_compostos\n"
      ],
      "execution_count": null,
      "outputs": []
    },
    {
      "cell_type": "code",
      "metadata": {
        "id": "VjuBFN2luhvh"
      },
      "source": [
        "dados_t5comp = dados.query('composto in @cod_compostos')"
      ],
      "execution_count": null,
      "outputs": []
    },
    {
      "cell_type": "markdown",
      "metadata": {
        "id": "Y5umlW9Dw6c9"
      },
      "source": [
        "Com uma base de dados filtrada obtemos um número aceitável para a visualização em gráfico"
      ]
    },
    {
      "cell_type": "code",
      "metadata": {
        "id": "-jPHXeoa0UMK"
      },
      "source": [
        "\n",
        "sns.countplot(x='composto', data=dados_t5comp)"
      ],
      "execution_count": null,
      "outputs": []
    },
    {
      "cell_type": "markdown",
      "metadata": {
        "id": "RfgS8WSO0Z1d"
      },
      "source": [
        "Melhorando a visualização do gráfico"
      ]
    },
    {
      "cell_type": "code",
      "metadata": {
        "id": "79uP7pksyeYF",
        "colab": {
          "base_uri": "https://localhost:8080/",
          "height": 410
        },
        "outputId": "94743edb-7749-43f3-aa41-a5dea2d24cee"
      },
      "source": [
        "\n",
        "sns.set()\n",
        "plt.figure(figsize= (8, 6))\n",
        "ax = sns.countplot(x='composto', data=dados_t5comp)\n",
        "ax.set_title('Top 5 compostos')\n",
        "plt.show()"
      ],
      "execution_count": null,
      "outputs": [
        {
          "output_type": "display_data",
          "data": {
            "image/png": "[encoded data removed]",
            "text/plain": [
              "<Figure size 576x432 with 1 Axes>"
            ]
          },
          "metadata": {
            "tags": []
          }
        }
      ]
    },
    {
      "cell_type": "markdown",
      "metadata": {
        "id": "hRLdzq_W1lFr"
      },
      "source": [
        "Avaliando dados das colunas de genes e gerando um histograma para melhor visualizão"
      ]
    },
    {
      "cell_type": "code",
      "metadata": {
        "id": "KLyVPQFr1EPg"
      },
      "source": [
        "len(dados['g-0'].unique())"
      ],
      "execution_count": null,
      "outputs": []
    },
    {
      "cell_type": "code",
      "metadata": {
        "id": "n6U_DefZ1OlB"
      },
      "source": [
        "dados['g-0'].min()"
      ],
      "execution_count": null,
      "outputs": []
    },
    {
      "cell_type": "code",
      "metadata": {
        "id": "U9ODjomk1T4V"
      },
      "source": [
        "dados['g-0'].max()"
      ],
      "execution_count": null,
      "outputs": []
    },
    {
      "cell_type": "code",
      "metadata": {
        "id": "ZLgbq62x2hz4"
      },
      "source": [
        "dados['g-0'].mean()"
      ],
      "execution_count": null,
      "outputs": []
    },
    {
      "cell_type": "code",
      "metadata": {
        "id": "6tH_tUSd1XE3"
      },
      "source": [
        "dados['g-0'].hist(bins=100)"
      ],
      "execution_count": null,
      "outputs": []
    },
    {
      "cell_type": "code",
      "metadata": {
        "id": "aI8SC9Jo1etJ"
      },
      "source": [
        "dados['g-19'].hist(bins=100)"
      ],
      "execution_count": null,
      "outputs": []
    },
    {
      "cell_type": "markdown",
      "metadata": {
        "id": "YGGwOcPh3ogi"
      },
      "source": [
        "Comparar as informações de genes escolhidos"
      ]
    },
    {
      "cell_type": "code",
      "metadata": {
        "colab": {
          "base_uri": "https://localhost:8080/",
          "height": 111
        },
        "id": "OWph03ZP2XKc",
        "outputId": "a40acdc5-19ae-48a3-ce44-723b37658e7c"
      },
      "source": [
        "dados.loc[:,['g-0','g-19']].describe().T"
      ],
      "execution_count": null,
      "outputs": [
        {
          "output_type": "execute_result",
          "data": {
            "text/html": [
              "<div>\n",
              "<style scoped>\n",
              "    .dataframe tbody tr th:only-of-type {\n",
              "        vertical-align: middle;\n",
              "    }\n",
              "\n",
              "    .dataframe tbody tr th {\n",
              "        vertical-align: top;\n",
              "    }\n",
              "\n",
              "    .dataframe thead th {\n",
              "        text-align: right;\n",
              "    }\n",
              "</style>\n",
              "<table border=\"1\" class=\"dataframe\">\n",
              "  <thead>\n",
              "    <tr style=\"text-align: right;\">\n",
              "      <th></th>\n",
              "      <th>count</th>\n",
              "      <th>mean</th>\n",
              "      <th>std</th>\n",
              "      <th>min</th>\n",
              "      <th>25%</th>\n",
              "      <th>50%</th>\n",
              "      <th>75%</th>\n",
              "      <th>max</th>\n",
              "    </tr>\n",
              "  </thead>\n",
              "  <tbody>\n",
              "    <tr>\n",
              "      <th>g-0</th>\n",
              "      <td>23814.0</td>\n",
              "      <td>0.248366</td>\n",
              "      <td>1.393399</td>\n",
              "      <td>-5.513</td>\n",
              "      <td>-0.473075</td>\n",
              "      <td>-0.00885</td>\n",
              "      <td>0.5257</td>\n",
              "      <td>10.000</td>\n",
              "    </tr>\n",
              "    <tr>\n",
              "      <th>g-19</th>\n",
              "      <td>23814.0</td>\n",
              "      <td>-0.082982</td>\n",
              "      <td>0.844796</td>\n",
              "      <td>-10.000</td>\n",
              "      <td>-0.488675</td>\n",
              "      <td>-0.02780</td>\n",
              "      <td>0.4006</td>\n",
              "      <td>4.081</td>\n",
              "    </tr>\n",
              "  </tbody>\n",
              "</table>\n",
              "</div>"
            ],
            "text/plain": [
              "        count      mean       std     min       25%      50%     75%     max\n",
              "g-0   23814.0  0.248366  1.393399  -5.513 -0.473075 -0.00885  0.5257  10.000\n",
              "g-19  23814.0 -0.082982  0.844796 -10.000 -0.488675 -0.02780  0.4006   4.081"
            ]
          },
          "metadata": {
            "tags": []
          },
          "execution_count": 54
        }
      ]
    },
    {
      "cell_type": "markdown",
      "metadata": {
        "id": "SWG08mAk8Id5"
      },
      "source": [
        "Comparando dados dos genes"
      ]
    },
    {
      "cell_type": "code",
      "metadata": {
        "id": "fgksdbV72oyh"
      },
      "source": [
        "dados.loc[:,'g-0':'g-771'].describe().T['mean'].hist(bins=40)"
      ],
      "execution_count": null,
      "outputs": []
    },
    {
      "cell_type": "code",
      "metadata": {
        "id": "VTs-6JbS7sMr"
      },
      "source": [
        "dados.loc[:,'g-0':'g-771'].describe().T['min'].hist(bins=40)"
      ],
      "execution_count": null,
      "outputs": []
    },
    {
      "cell_type": "code",
      "metadata": {
        "id": "dPgzD_6R8N-s"
      },
      "source": [
        "dados.loc[:,'g-0':'g-771'].describe().T['max'].hist(bins=40)"
      ],
      "execution_count": null,
      "outputs": []
    },
    {
      "cell_type": "markdown",
      "metadata": {
        "id": "elozc9hl8at_"
      },
      "source": [
        "Agora avaliar as linhagens celulares (c)"
      ]
    },
    {
      "cell_type": "code",
      "metadata": {
        "id": "nGsE28DF8RT-"
      },
      "source": [
        "dados.loc[:,'c-0':'c-99'].describe().T['mean'].hist(bins=40)"
      ],
      "execution_count": null,
      "outputs": []
    },
    {
      "cell_type": "markdown",
      "metadata": {
        "id": "zqFInqwvGgnu"
      },
      "source": [
        "Analisando o mesmo problema com boxplot()"
      ]
    },
    {
      "cell_type": "code",
      "metadata": {
        "id": "XnNmuDtN8kV8",
        "colab": {
          "base_uri": "https://localhost:8080/",
          "height": 411
        },
        "outputId": "304f2e15-d906-465f-d81c-e5e383a2d8e7"
      },
      "source": [
        "plt.figure(figsize=(8,6))\n",
        "sns.boxplot(y='g-0', x='tratamento', data=dados)\n"
      ],
      "execution_count": null,
      "outputs": [
        {
          "output_type": "execute_result",
          "data": {
            "text/plain": [
              "<matplotlib.axes._subplots.AxesSubplot at 0x7fdbc2828750>"
            ]
          },
          "metadata": {
            "tags": []
          },
          "execution_count": 52
        },
        {
          "output_type": "display_data",
          "data": {
            "image/png": "[encoded data removed]",
            "text/plain": [
              "<Figure size 576x432 with 1 Axes>"
            ]
          },
          "metadata": {
            "tags": []
          }
        }
      ]
    },
    {
      "cell_type": "markdown",
      "metadata": {
        "id": "JdPWBKZ7nJIn"
      },
      "source": [
        "Construir tabela de frequência"
      ]
    },
    {
      "cell_type": "code",
      "metadata": {
        "id": "6UBbmIGTF1tF",
        "colab": {
          "base_uri": "https://localhost:8080/",
          "height": 142
        },
        "outputId": "d870753a-299e-4013-e329-0a2a3e02e9d2"
      },
      "source": [
        "pd.crosstab(dados['dose'], dados['tempo'])"
      ],
      "execution_count": 8,
      "outputs": [
        {
          "output_type": "execute_result",
          "data": {
            "text/html": [
              "<div>\n",
              "<style scoped>\n",
              "    .dataframe tbody tr th:only-of-type {\n",
              "        vertical-align: middle;\n",
              "    }\n",
              "\n",
              "    .dataframe tbody tr th {\n",
              "        vertical-align: top;\n",
              "    }\n",
              "\n",
              "    .dataframe thead th {\n",
              "        text-align: right;\n",
              "    }\n",
              "</style>\n",
              "<table border=\"1\" class=\"dataframe\">\n",
              "  <thead>\n",
              "    <tr style=\"text-align: right;\">\n",
              "      <th>tempo</th>\n",
              "      <th>24</th>\n",
              "      <th>48</th>\n",
              "      <th>72</th>\n",
              "    </tr>\n",
              "    <tr>\n",
              "      <th>dose</th>\n",
              "      <th></th>\n",
              "      <th></th>\n",
              "      <th></th>\n",
              "    </tr>\n",
              "  </thead>\n",
              "  <tbody>\n",
              "    <tr>\n",
              "      <th>D1</th>\n",
              "      <td>3886</td>\n",
              "      <td>4354</td>\n",
              "      <td>3907</td>\n",
              "    </tr>\n",
              "    <tr>\n",
              "      <th>D2</th>\n",
              "      <td>3886</td>\n",
              "      <td>3896</td>\n",
              "      <td>3885</td>\n",
              "    </tr>\n",
              "  </tbody>\n",
              "</table>\n",
              "</div>"
            ],
            "text/plain": [
              "tempo    24    48    72\n",
              "dose                   \n",
              "D1     3886  4354  3907\n",
              "D2     3886  3896  3885"
            ]
          },
          "metadata": {
            "tags": []
          },
          "execution_count": 8
        }
      ]
    },
    {
      "cell_type": "markdown",
      "metadata": {
        "id": "Vdk40KnFovTc"
      },
      "source": [
        "Comparando informações entre as variáveis"
      ]
    },
    {
      "cell_type": "code",
      "metadata": {
        "colab": {
          "base_uri": "https://localhost:8080/",
          "height": 266
        },
        "id": "RLKhaYlVonqw",
        "outputId": "2fd97050-c768-419a-de98-f7394d0be779"
      },
      "source": [
        "pd.crosstab([dados['dose'], dados['tempo']],dados['tratamento'], normalize=True)\n",
        "#proporção medida entre todos os resultados"
      ],
      "execution_count": 9,
      "outputs": [
        {
          "output_type": "execute_result",
          "data": {
            "text/html": [
              "<div>\n",
              "<style scoped>\n",
              "    .dataframe tbody tr th:only-of-type {\n",
              "        vertical-align: middle;\n",
              "    }\n",
              "\n",
              "    .dataframe tbody tr th {\n",
              "        vertical-align: top;\n",
              "    }\n",
              "\n",
              "    .dataframe thead th {\n",
              "        text-align: right;\n",
              "    }\n",
              "</style>\n",
              "<table border=\"1\" class=\"dataframe\">\n",
              "  <thead>\n",
              "    <tr style=\"text-align: right;\">\n",
              "      <th></th>\n",
              "      <th>tratamento</th>\n",
              "      <th>com_controle</th>\n",
              "      <th>com_droga</th>\n",
              "    </tr>\n",
              "    <tr>\n",
              "      <th>dose</th>\n",
              "      <th>tempo</th>\n",
              "      <th></th>\n",
              "      <th></th>\n",
              "    </tr>\n",
              "  </thead>\n",
              "  <tbody>\n",
              "    <tr>\n",
              "      <th rowspan=\"3\" valign=\"top\">D1</th>\n",
              "      <th>24</th>\n",
              "      <td>0.012640</td>\n",
              "      <td>0.150542</td>\n",
              "    </tr>\n",
              "    <tr>\n",
              "      <th>48</th>\n",
              "      <td>0.014403</td>\n",
              "      <td>0.168430</td>\n",
              "    </tr>\n",
              "    <tr>\n",
              "      <th>72</th>\n",
              "      <td>0.012892</td>\n",
              "      <td>0.151172</td>\n",
              "    </tr>\n",
              "    <tr>\n",
              "      <th rowspan=\"3\" valign=\"top\">D2</th>\n",
              "      <th>24</th>\n",
              "      <td>0.012808</td>\n",
              "      <td>0.150374</td>\n",
              "    </tr>\n",
              "    <tr>\n",
              "      <th>48</th>\n",
              "      <td>0.012808</td>\n",
              "      <td>0.150794</td>\n",
              "    </tr>\n",
              "    <tr>\n",
              "      <th>72</th>\n",
              "      <td>0.012808</td>\n",
              "      <td>0.150332</td>\n",
              "    </tr>\n",
              "  </tbody>\n",
              "</table>\n",
              "</div>"
            ],
            "text/plain": [
              "tratamento  com_controle  com_droga\n",
              "dose tempo                         \n",
              "D1   24         0.012640   0.150542\n",
              "     48         0.014403   0.168430\n",
              "     72         0.012892   0.151172\n",
              "D2   24         0.012808   0.150374\n",
              "     48         0.012808   0.150794\n",
              "     72         0.012808   0.150332"
            ]
          },
          "metadata": {
            "tags": []
          },
          "execution_count": 9
        }
      ]
    },
    {
      "cell_type": "code",
      "metadata": {
        "colab": {
          "base_uri": "https://localhost:8080/",
          "height": 266
        },
        "id": "52OApylLo1Pg",
        "outputId": "22d21385-0fd6-4c8d-bc1d-86250c6688f5"
      },
      "source": [
        "pd.crosstab([dados['dose'], dados['tempo']],dados['tratamento'], normalize='index')\n",
        "#proporção medida entre controle e droga(coluna)"
      ],
      "execution_count": 10,
      "outputs": [
        {
          "output_type": "execute_result",
          "data": {
            "text/html": [
              "<div>\n",
              "<style scoped>\n",
              "    .dataframe tbody tr th:only-of-type {\n",
              "        vertical-align: middle;\n",
              "    }\n",
              "\n",
              "    .dataframe tbody tr th {\n",
              "        vertical-align: top;\n",
              "    }\n",
              "\n",
              "    .dataframe thead th {\n",
              "        text-align: right;\n",
              "    }\n",
              "</style>\n",
              "<table border=\"1\" class=\"dataframe\">\n",
              "  <thead>\n",
              "    <tr style=\"text-align: right;\">\n",
              "      <th></th>\n",
              "      <th>tratamento</th>\n",
              "      <th>com_controle</th>\n",
              "      <th>com_droga</th>\n",
              "    </tr>\n",
              "    <tr>\n",
              "      <th>dose</th>\n",
              "      <th>tempo</th>\n",
              "      <th></th>\n",
              "      <th></th>\n",
              "    </tr>\n",
              "  </thead>\n",
              "  <tbody>\n",
              "    <tr>\n",
              "      <th rowspan=\"3\" valign=\"top\">D1</th>\n",
              "      <th>24</th>\n",
              "      <td>0.077458</td>\n",
              "      <td>0.922542</td>\n",
              "    </tr>\n",
              "    <tr>\n",
              "      <th>48</th>\n",
              "      <td>0.078778</td>\n",
              "      <td>0.921222</td>\n",
              "    </tr>\n",
              "    <tr>\n",
              "      <th>72</th>\n",
              "      <td>0.078577</td>\n",
              "      <td>0.921423</td>\n",
              "    </tr>\n",
              "    <tr>\n",
              "      <th rowspan=\"3\" valign=\"top\">D2</th>\n",
              "      <th>24</th>\n",
              "      <td>0.078487</td>\n",
              "      <td>0.921513</td>\n",
              "    </tr>\n",
              "    <tr>\n",
              "      <th>48</th>\n",
              "      <td>0.078285</td>\n",
              "      <td>0.921715</td>\n",
              "    </tr>\n",
              "    <tr>\n",
              "      <th>72</th>\n",
              "      <td>0.078507</td>\n",
              "      <td>0.921493</td>\n",
              "    </tr>\n",
              "  </tbody>\n",
              "</table>\n",
              "</div>"
            ],
            "text/plain": [
              "tratamento  com_controle  com_droga\n",
              "dose tempo                         \n",
              "D1   24         0.077458   0.922542\n",
              "     48         0.078778   0.921222\n",
              "     72         0.078577   0.921423\n",
              "D2   24         0.078487   0.921513\n",
              "     48         0.078285   0.921715\n",
              "     72         0.078507   0.921493"
            ]
          },
          "metadata": {
            "tags": []
          },
          "execution_count": 10
        }
      ]
    },
    {
      "cell_type": "code",
      "metadata": {
        "colab": {
          "base_uri": "https://localhost:8080/",
          "height": 266
        },
        "id": "IFwq4avIpSXB",
        "outputId": "a8522255-7767-457b-d9d7-9bb556522e45"
      },
      "source": [
        "pd.crosstab([dados['dose'], dados['tempo']],dados['tratamento'], values = dados['g-0'], aggfunc = 'mean')"
      ],
      "execution_count": 11,
      "outputs": [
        {
          "output_type": "execute_result",
          "data": {
            "text/html": [
              "<div>\n",
              "<style scoped>\n",
              "    .dataframe tbody tr th:only-of-type {\n",
              "        vertical-align: middle;\n",
              "    }\n",
              "\n",
              "    .dataframe tbody tr th {\n",
              "        vertical-align: top;\n",
              "    }\n",
              "\n",
              "    .dataframe thead th {\n",
              "        text-align: right;\n",
              "    }\n",
              "</style>\n",
              "<table border=\"1\" class=\"dataframe\">\n",
              "  <thead>\n",
              "    <tr style=\"text-align: right;\">\n",
              "      <th></th>\n",
              "      <th>tratamento</th>\n",
              "      <th>com_controle</th>\n",
              "      <th>com_droga</th>\n",
              "    </tr>\n",
              "    <tr>\n",
              "      <th>dose</th>\n",
              "      <th>tempo</th>\n",
              "      <th></th>\n",
              "      <th></th>\n",
              "    </tr>\n",
              "  </thead>\n",
              "  <tbody>\n",
              "    <tr>\n",
              "      <th rowspan=\"3\" valign=\"top\">D1</th>\n",
              "      <th>24</th>\n",
              "      <td>-0.251760</td>\n",
              "      <td>0.367996</td>\n",
              "    </tr>\n",
              "    <tr>\n",
              "      <th>48</th>\n",
              "      <td>-0.122773</td>\n",
              "      <td>0.412469</td>\n",
              "    </tr>\n",
              "    <tr>\n",
              "      <th>72</th>\n",
              "      <td>-0.295271</td>\n",
              "      <td>0.286250</td>\n",
              "    </tr>\n",
              "    <tr>\n",
              "      <th rowspan=\"3\" valign=\"top\">D2</th>\n",
              "      <th>24</th>\n",
              "      <td>0.010754</td>\n",
              "      <td>0.115253</td>\n",
              "    </tr>\n",
              "    <tr>\n",
              "      <th>48</th>\n",
              "      <td>0.013174</td>\n",
              "      <td>0.214480</td>\n",
              "    </tr>\n",
              "    <tr>\n",
              "      <th>72</th>\n",
              "      <td>0.070250</td>\n",
              "      <td>0.253439</td>\n",
              "    </tr>\n",
              "  </tbody>\n",
              "</table>\n",
              "</div>"
            ],
            "text/plain": [
              "tratamento  com_controle  com_droga\n",
              "dose tempo                         \n",
              "D1   24        -0.251760   0.367996\n",
              "     48        -0.122773   0.412469\n",
              "     72        -0.295271   0.286250\n",
              "D2   24         0.010754   0.115253\n",
              "     48         0.013174   0.214480\n",
              "     72         0.070250   0.253439"
            ]
          },
          "metadata": {
            "tags": []
          },
          "execution_count": 11
        }
      ]
    },
    {
      "cell_type": "markdown",
      "metadata": {
        "id": "SWuNcGziqoSu"
      },
      "source": [
        "Análise gráfica: entre duas variáveis"
      ]
    },
    {
      "cell_type": "code",
      "metadata": {
        "colab": {
          "base_uri": "https://localhost:8080/",
          "height": 296
        },
        "id": "0N5XF1g9qZqI",
        "outputId": "8d1f688d-6d20-4bf3-f8d5-7462ed815ac4"
      },
      "source": [
        "sns.scatterplot(x='g-0', y='g-3', data = dados)"
      ],
      "execution_count": 14,
      "outputs": [
        {
          "output_type": "execute_result",
          "data": {
            "text/plain": [
              "<matplotlib.axes._subplots.AxesSubplot at 0x7f0997f34e50>"
            ]
          },
          "metadata": {
            "tags": []
          },
          "execution_count": 14
        },
        {
          "output_type": "display_data",
          "data": {
            "image/png": "[encoded data removed]",
            "text/plain": [
              "<Figure size 432x288 with 1 Axes>"
            ]
          },
          "metadata": {
            "tags": [],
            "needs_background": "light"
          }
        }
      ]
    },
    {
      "cell_type": "code",
      "metadata": {
        "colab": {
          "base_uri": "https://localhost:8080/",
          "height": 419
        },
        "id": "oE04DaB-rdg8",
        "outputId": "2cd952de-6ccf-4072-a8d1-1f23385daf58"
      },
      "source": [
        "dados[['g-0','g-3']]"
      ],
      "execution_count": 15,
      "outputs": [
        {
          "output_type": "execute_result",
          "data": {
            "text/html": [
              "<div>\n",
              "<style scoped>\n",
              "    .dataframe tbody tr th:only-of-type {\n",
              "        vertical-align: middle;\n",
              "    }\n",
              "\n",
              "    .dataframe tbody tr th {\n",
              "        vertical-align: top;\n",
              "    }\n",
              "\n",
              "    .dataframe thead th {\n",
              "        text-align: right;\n",
              "    }\n",
              "</style>\n",
              "<table border=\"1\" class=\"dataframe\">\n",
              "  <thead>\n",
              "    <tr style=\"text-align: right;\">\n",
              "      <th></th>\n",
              "      <th>g-0</th>\n",
              "      <th>g-3</th>\n",
              "    </tr>\n",
              "  </thead>\n",
              "  <tbody>\n",
              "    <tr>\n",
              "      <th>0</th>\n",
              "      <td>1.0620</td>\n",
              "      <td>-0.6208</td>\n",
              "    </tr>\n",
              "    <tr>\n",
              "      <th>1</th>\n",
              "      <td>0.0743</td>\n",
              "      <td>0.0604</td>\n",
              "    </tr>\n",
              "    <tr>\n",
              "      <th>2</th>\n",
              "      <td>0.6280</td>\n",
              "      <td>-0.0764</td>\n",
              "    </tr>\n",
              "    <tr>\n",
              "      <th>3</th>\n",
              "      <td>-0.5138</td>\n",
              "      <td>0.5288</td>\n",
              "    </tr>\n",
              "    <tr>\n",
              "      <th>4</th>\n",
              "      <td>-0.3254</td>\n",
              "      <td>0.6919</td>\n",
              "    </tr>\n",
              "    <tr>\n",
              "      <th>...</th>\n",
              "      <td>...</td>\n",
              "      <td>...</td>\n",
              "    </tr>\n",
              "    <tr>\n",
              "      <th>23809</th>\n",
              "      <td>0.1394</td>\n",
              "      <td>-0.5080</td>\n",
              "    </tr>\n",
              "    <tr>\n",
              "      <th>23810</th>\n",
              "      <td>-1.3260</td>\n",
              "      <td>0.9905</td>\n",
              "    </tr>\n",
              "    <tr>\n",
              "      <th>23811</th>\n",
              "      <td>0.3942</td>\n",
              "      <td>-0.7389</td>\n",
              "    </tr>\n",
              "    <tr>\n",
              "      <th>23812</th>\n",
              "      <td>0.6660</td>\n",
              "      <td>0.2044</td>\n",
              "    </tr>\n",
              "    <tr>\n",
              "      <th>23813</th>\n",
              "      <td>-0.8598</td>\n",
              "      <td>0.7952</td>\n",
              "    </tr>\n",
              "  </tbody>\n",
              "</table>\n",
              "<p>23814 rows × 2 columns</p>\n",
              "</div>"
            ],
            "text/plain": [
              "          g-0     g-3\n",
              "0      1.0620 -0.6208\n",
              "1      0.0743  0.0604\n",
              "2      0.6280 -0.0764\n",
              "3     -0.5138  0.5288\n",
              "4     -0.3254  0.6919\n",
              "...       ...     ...\n",
              "23809  0.1394 -0.5080\n",
              "23810 -1.3260  0.9905\n",
              "23811  0.3942 -0.7389\n",
              "23812  0.6660  0.2044\n",
              "23813 -0.8598  0.7952\n",
              "\n",
              "[23814 rows x 2 columns]"
            ]
          },
          "metadata": {
            "tags": []
          },
          "execution_count": 15
        }
      ]
    },
    {
      "cell_type": "markdown",
      "metadata": {
        "id": "I8Ttx0mArwTz"
      },
      "source": [
        "Agora em um caso em que existe uma correlação maior, já indicando-a com uma linha"
      ]
    },
    {
      "cell_type": "code",
      "metadata": {
        "colab": {
          "base_uri": "https://localhost:8080/",
          "height": 400
        },
        "id": "jLRizE7Kru3x",
        "outputId": "c308198d-ce16-4abe-f5aa-42610d1d3163"
      },
      "source": [
        "sns.lmplot(x='g-0', y='g-8', data = dados, line_kws={'color':'red'})"
      ],
      "execution_count": 18,
      "outputs": [
        {
          "output_type": "execute_result",
          "data": {
            "text/plain": [
              "<seaborn.axisgrid.FacetGrid at 0x7f0997219c90>"
            ]
          },
          "metadata": {
            "tags": []
          },
          "execution_count": 18
        },
        {
          "output_type": "display_data",
          "data": {
            "image/png": "[encoded data removed]",
            "text/plain": [
              "<Figure size 360x360 with 1 Axes>"
            ]
          },
          "metadata": {
            "tags": [],
            "needs_background": "light"
          }
        }
      ]
    },
    {
      "cell_type": "markdown",
      "metadata": {
        "id": "0mQ-j06UsXM9"
      },
      "source": [
        "Comparando separadamente drogas, controle e tempo"
      ]
    },
    {
      "cell_type": "code",
      "metadata": {
        "colab": {
          "base_uri": "https://localhost:8080/",
          "height": 1000
        },
        "id": "7gaHqL9qsbt5",
        "outputId": "c5f60bb3-90ba-43de-8542-fffd74381993"
      },
      "source": [
        "sns.lmplot(x='g-0', y='g-8', data = dados, line_kws={'color':'red'}, col = 'tratamento', row = 'tempo')"
      ],
      "execution_count": 22,
      "outputs": [
        {
          "output_type": "execute_result",
          "data": {
            "text/plain": [
              "<seaborn.axisgrid.FacetGrid at 0x7f098cca6710>"
            ]
          },
          "metadata": {
            "tags": []
          },
          "execution_count": 22
        },
        {
          "output_type": "display_data",
          "data": {
            "image/png": "[encoded data removed]",
            "text/plain": [
              "<Figure size 720x1080 with 6 Axes>"
            ]
          },
          "metadata": {
            "tags": [],
            "needs_background": "light"
          }
        }
      ]
    },
    {
      "cell_type": "markdown",
      "metadata": {
        "id": "YfH7X2ghtDCY"
      },
      "source": [
        "Agora encontrando a correlação entre as variáveis e a demonstrando num mapa de calor"
      ]
    },
    {
      "cell_type": "code",
      "metadata": {
        "colab": {
          "base_uri": "https://localhost:8080/",
          "height": 309
        },
        "id": "E_oK_Q6rtwtZ",
        "outputId": "7dfc9d42-896a-4a80-8138-92f7b1e8d12c"
      },
      "source": [
        "dados.loc[:,'g-0':'g-50'].corr().head()"
      ],
      "execution_count": 31,
      "outputs": [
        {
          "output_type": "execute_result",
          "data": {
            "text/html": [
              "<div>\n",
              "<style scoped>\n",
              "    .dataframe tbody tr th:only-of-type {\n",
              "        vertical-align: middle;\n",
              "    }\n",
              "\n",
              "    .dataframe tbody tr th {\n",
              "        vertical-align: top;\n",
              "    }\n",
              "\n",
              "    .dataframe thead th {\n",
              "        text-align: right;\n",
              "    }\n",
              "</style>\n",
              "<table border=\"1\" class=\"dataframe\">\n",
              "  <thead>\n",
              "    <tr style=\"text-align: right;\">\n",
              "      <th></th>\n",
              "      <th>g-0</th>\n",
              "      <th>g-1</th>\n",
              "      <th>g-2</th>\n",
              "      <th>g-3</th>\n",
              "      <th>g-4</th>\n",
              "      <th>g-5</th>\n",
              "      <th>g-6</th>\n",
              "      <th>g-7</th>\n",
              "      <th>g-8</th>\n",
              "      <th>g-9</th>\n",
              "      <th>g-10</th>\n",
              "      <th>g-11</th>\n",
              "      <th>g-12</th>\n",
              "      <th>g-13</th>\n",
              "      <th>g-14</th>\n",
              "      <th>g-15</th>\n",
              "      <th>g-16</th>\n",
              "      <th>g-17</th>\n",
              "      <th>g-18</th>\n",
              "      <th>g-19</th>\n",
              "      <th>g-20</th>\n",
              "      <th>g-21</th>\n",
              "      <th>g-22</th>\n",
              "      <th>g-23</th>\n",
              "      <th>g-24</th>\n",
              "      <th>g-25</th>\n",
              "      <th>g-26</th>\n",
              "      <th>g-27</th>\n",
              "      <th>g-28</th>\n",
              "      <th>g-29</th>\n",
              "      <th>g-30</th>\n",
              "      <th>g-31</th>\n",
              "      <th>g-32</th>\n",
              "      <th>g-33</th>\n",
              "      <th>g-34</th>\n",
              "      <th>g-35</th>\n",
              "      <th>g-36</th>\n",
              "      <th>g-37</th>\n",
              "      <th>g-38</th>\n",
              "      <th>g-39</th>\n",
              "      <th>g-40</th>\n",
              "      <th>g-41</th>\n",
              "      <th>g-42</th>\n",
              "      <th>g-43</th>\n",
              "      <th>g-44</th>\n",
              "      <th>g-45</th>\n",
              "      <th>g-46</th>\n",
              "      <th>g-47</th>\n",
              "      <th>g-48</th>\n",
              "      <th>g-49</th>\n",
              "      <th>g-50</th>\n",
              "    </tr>\n",
              "  </thead>\n",
              "  <tbody>\n",
              "    <tr>\n",
              "      <th>g-0</th>\n",
              "      <td>1.000000</td>\n",
              "      <td>0.086032</td>\n",
              "      <td>0.176188</td>\n",
              "      <td>0.011266</td>\n",
              "      <td>0.403153</td>\n",
              "      <td>-0.165478</td>\n",
              "      <td>0.238348</td>\n",
              "      <td>-0.374451</td>\n",
              "      <td>-0.604212</td>\n",
              "      <td>-0.428779</td>\n",
              "      <td>-0.547606</td>\n",
              "      <td>0.219762</td>\n",
              "      <td>-0.199453</td>\n",
              "      <td>0.472223</td>\n",
              "      <td>-0.346179</td>\n",
              "      <td>-0.201323</td>\n",
              "      <td>-0.513026</td>\n",
              "      <td>-0.433536</td>\n",
              "      <td>-0.002073</td>\n",
              "      <td>-0.074622</td>\n",
              "      <td>-0.468599</td>\n",
              "      <td>0.052445</td>\n",
              "      <td>0.022269</td>\n",
              "      <td>-0.076298</td>\n",
              "      <td>-0.337522</td>\n",
              "      <td>-0.235191</td>\n",
              "      <td>-0.422814</td>\n",
              "      <td>0.148432</td>\n",
              "      <td>-0.471092</td>\n",
              "      <td>-0.296871</td>\n",
              "      <td>-0.528327</td>\n",
              "      <td>0.558136</td>\n",
              "      <td>-0.133229</td>\n",
              "      <td>-0.155987</td>\n",
              "      <td>-0.120247</td>\n",
              "      <td>0.327593</td>\n",
              "      <td>-0.147800</td>\n",
              "      <td>-0.591868</td>\n",
              "      <td>0.602623</td>\n",
              "      <td>0.450769</td>\n",
              "      <td>-0.432426</td>\n",
              "      <td>-0.499815</td>\n",
              "      <td>-0.203828</td>\n",
              "      <td>0.021582</td>\n",
              "      <td>-0.023423</td>\n",
              "      <td>-0.119687</td>\n",
              "      <td>0.530238</td>\n",
              "      <td>0.039827</td>\n",
              "      <td>0.238235</td>\n",
              "      <td>0.310583</td>\n",
              "      <td>-0.560201</td>\n",
              "    </tr>\n",
              "    <tr>\n",
              "      <th>g-1</th>\n",
              "      <td>0.086032</td>\n",
              "      <td>1.000000</td>\n",
              "      <td>-0.054518</td>\n",
              "      <td>-0.027855</td>\n",
              "      <td>0.193647</td>\n",
              "      <td>-0.151590</td>\n",
              "      <td>-0.122541</td>\n",
              "      <td>0.144537</td>\n",
              "      <td>-0.009973</td>\n",
              "      <td>-0.047558</td>\n",
              "      <td>-0.009051</td>\n",
              "      <td>0.161274</td>\n",
              "      <td>0.037178</td>\n",
              "      <td>-0.009256</td>\n",
              "      <td>0.002632</td>\n",
              "      <td>-0.070193</td>\n",
              "      <td>-0.063414</td>\n",
              "      <td>-0.000944</td>\n",
              "      <td>-0.023748</td>\n",
              "      <td>-0.034714</td>\n",
              "      <td>-0.131031</td>\n",
              "      <td>0.196596</td>\n",
              "      <td>-0.061441</td>\n",
              "      <td>0.090620</td>\n",
              "      <td>-0.004299</td>\n",
              "      <td>-0.032600</td>\n",
              "      <td>-0.019435</td>\n",
              "      <td>0.015661</td>\n",
              "      <td>-0.098907</td>\n",
              "      <td>-0.091071</td>\n",
              "      <td>-0.053331</td>\n",
              "      <td>-0.049514</td>\n",
              "      <td>0.187382</td>\n",
              "      <td>-0.091232</td>\n",
              "      <td>0.045417</td>\n",
              "      <td>0.044373</td>\n",
              "      <td>-0.077671</td>\n",
              "      <td>-0.005265</td>\n",
              "      <td>-0.042213</td>\n",
              "      <td>0.050546</td>\n",
              "      <td>0.000655</td>\n",
              "      <td>-0.110238</td>\n",
              "      <td>0.133896</td>\n",
              "      <td>0.161186</td>\n",
              "      <td>-0.092498</td>\n",
              "      <td>0.031993</td>\n",
              "      <td>0.097674</td>\n",
              "      <td>-0.012420</td>\n",
              "      <td>0.029064</td>\n",
              "      <td>-0.106349</td>\n",
              "      <td>-0.028870</td>\n",
              "    </tr>\n",
              "    <tr>\n",
              "      <th>g-2</th>\n",
              "      <td>0.176188</td>\n",
              "      <td>-0.054518</td>\n",
              "      <td>1.000000</td>\n",
              "      <td>0.042633</td>\n",
              "      <td>0.013968</td>\n",
              "      <td>0.018516</td>\n",
              "      <td>0.015190</td>\n",
              "      <td>-0.144205</td>\n",
              "      <td>-0.128029</td>\n",
              "      <td>-0.081332</td>\n",
              "      <td>-0.105050</td>\n",
              "      <td>0.011198</td>\n",
              "      <td>-0.063501</td>\n",
              "      <td>0.082011</td>\n",
              "      <td>-0.082204</td>\n",
              "      <td>-0.059607</td>\n",
              "      <td>-0.137811</td>\n",
              "      <td>-0.085491</td>\n",
              "      <td>0.053335</td>\n",
              "      <td>0.028813</td>\n",
              "      <td>-0.061160</td>\n",
              "      <td>-0.129131</td>\n",
              "      <td>-0.007426</td>\n",
              "      <td>-0.034230</td>\n",
              "      <td>-0.128312</td>\n",
              "      <td>-0.067363</td>\n",
              "      <td>-0.126554</td>\n",
              "      <td>0.036984</td>\n",
              "      <td>-0.129481</td>\n",
              "      <td>-0.017941</td>\n",
              "      <td>-0.152288</td>\n",
              "      <td>0.172191</td>\n",
              "      <td>-0.100086</td>\n",
              "      <td>-0.033010</td>\n",
              "      <td>-0.015481</td>\n",
              "      <td>0.001098</td>\n",
              "      <td>-0.020374</td>\n",
              "      <td>-0.157977</td>\n",
              "      <td>0.169464</td>\n",
              "      <td>0.144449</td>\n",
              "      <td>-0.080201</td>\n",
              "      <td>-0.109646</td>\n",
              "      <td>-0.121433</td>\n",
              "      <td>-0.086435</td>\n",
              "      <td>0.021241</td>\n",
              "      <td>-0.036105</td>\n",
              "      <td>0.142712</td>\n",
              "      <td>-0.009575</td>\n",
              "      <td>0.039119</td>\n",
              "      <td>0.052003</td>\n",
              "      <td>-0.140002</td>\n",
              "    </tr>\n",
              "    <tr>\n",
              "      <th>g-3</th>\n",
              "      <td>0.011266</td>\n",
              "      <td>-0.027855</td>\n",
              "      <td>0.042633</td>\n",
              "      <td>1.000000</td>\n",
              "      <td>-0.033039</td>\n",
              "      <td>0.042231</td>\n",
              "      <td>-0.043177</td>\n",
              "      <td>-0.175692</td>\n",
              "      <td>-0.086167</td>\n",
              "      <td>-0.014052</td>\n",
              "      <td>-0.074101</td>\n",
              "      <td>0.181024</td>\n",
              "      <td>0.030539</td>\n",
              "      <td>0.192727</td>\n",
              "      <td>0.128792</td>\n",
              "      <td>-0.045688</td>\n",
              "      <td>0.033974</td>\n",
              "      <td>-0.070920</td>\n",
              "      <td>0.237669</td>\n",
              "      <td>0.112392</td>\n",
              "      <td>0.027867</td>\n",
              "      <td>-0.167263</td>\n",
              "      <td>0.197013</td>\n",
              "      <td>-0.049480</td>\n",
              "      <td>-0.113336</td>\n",
              "      <td>0.175615</td>\n",
              "      <td>0.111355</td>\n",
              "      <td>0.007168</td>\n",
              "      <td>-0.022381</td>\n",
              "      <td>-0.128269</td>\n",
              "      <td>-0.042827</td>\n",
              "      <td>0.098416</td>\n",
              "      <td>-0.091962</td>\n",
              "      <td>-0.083806</td>\n",
              "      <td>0.184985</td>\n",
              "      <td>-0.070933</td>\n",
              "      <td>-0.317859</td>\n",
              "      <td>-0.228039</td>\n",
              "      <td>0.084346</td>\n",
              "      <td>0.054827</td>\n",
              "      <td>0.114685</td>\n",
              "      <td>-0.047136</td>\n",
              "      <td>-0.010941</td>\n",
              "      <td>-0.168398</td>\n",
              "      <td>-0.001770</td>\n",
              "      <td>0.065444</td>\n",
              "      <td>0.082046</td>\n",
              "      <td>0.297146</td>\n",
              "      <td>0.173796</td>\n",
              "      <td>0.072970</td>\n",
              "      <td>-0.233491</td>\n",
              "    </tr>\n",
              "    <tr>\n",
              "      <th>g-4</th>\n",
              "      <td>0.403153</td>\n",
              "      <td>0.193647</td>\n",
              "      <td>0.013968</td>\n",
              "      <td>-0.033039</td>\n",
              "      <td>1.000000</td>\n",
              "      <td>-0.057449</td>\n",
              "      <td>0.206405</td>\n",
              "      <td>-0.032748</td>\n",
              "      <td>-0.474828</td>\n",
              "      <td>-0.274167</td>\n",
              "      <td>-0.458021</td>\n",
              "      <td>0.116467</td>\n",
              "      <td>-0.207078</td>\n",
              "      <td>0.210440</td>\n",
              "      <td>-0.307280</td>\n",
              "      <td>0.019531</td>\n",
              "      <td>-0.275700</td>\n",
              "      <td>-0.422889</td>\n",
              "      <td>-0.012207</td>\n",
              "      <td>-0.088152</td>\n",
              "      <td>-0.311798</td>\n",
              "      <td>0.286106</td>\n",
              "      <td>-0.055368</td>\n",
              "      <td>-0.113396</td>\n",
              "      <td>-0.120743</td>\n",
              "      <td>-0.233682</td>\n",
              "      <td>-0.340708</td>\n",
              "      <td>0.070292</td>\n",
              "      <td>-0.360274</td>\n",
              "      <td>-0.225461</td>\n",
              "      <td>-0.402256</td>\n",
              "      <td>0.324362</td>\n",
              "      <td>0.091731</td>\n",
              "      <td>-0.052787</td>\n",
              "      <td>-0.073490</td>\n",
              "      <td>0.195062</td>\n",
              "      <td>-0.124394</td>\n",
              "      <td>-0.277002</td>\n",
              "      <td>0.285256</td>\n",
              "      <td>0.300517</td>\n",
              "      <td>-0.309149</td>\n",
              "      <td>-0.373390</td>\n",
              "      <td>0.071462</td>\n",
              "      <td>0.185361</td>\n",
              "      <td>-0.105936</td>\n",
              "      <td>-0.033695</td>\n",
              "      <td>0.355833</td>\n",
              "      <td>-0.060724</td>\n",
              "      <td>0.006138</td>\n",
              "      <td>0.114748</td>\n",
              "      <td>-0.315675</td>\n",
              "    </tr>\n",
              "  </tbody>\n",
              "</table>\n",
              "</div>"
            ],
            "text/plain": [
              "          g-0       g-1       g-2  ...      g-48      g-49      g-50\n",
              "g-0  1.000000  0.086032  0.176188  ...  0.238235  0.310583 -0.560201\n",
              "g-1  0.086032  1.000000 -0.054518  ...  0.029064 -0.106349 -0.028870\n",
              "g-2  0.176188 -0.054518  1.000000  ...  0.039119  0.052003 -0.140002\n",
              "g-3  0.011266 -0.027855  0.042633  ...  0.173796  0.072970 -0.233491\n",
              "g-4  0.403153  0.193647  0.013968  ...  0.006138  0.114748 -0.315675\n",
              "\n",
              "[5 rows x 51 columns]"
            ]
          },
          "metadata": {
            "tags": []
          },
          "execution_count": 31
        }
      ]
    },
    {
      "cell_type": "code",
      "metadata": {
        "colab": {
          "base_uri": "https://localhost:8080/",
          "height": 567
        },
        "id": "2_zimS_zuCMo",
        "outputId": "2aa5a78f-5f4b-4b13-92c6-b41105ee3b54"
      },
      "source": [
        "corr = dados.loc[:,'g-0':'g-50'].corr()\n",
        "\n",
        "# Generate a mask for the upper triangle\n",
        "mask = np.triu(np.ones_like(corr, dtype=bool))\n",
        "\n",
        "# Set up the matplotlib figure\n",
        "f, ax = plt.subplots(figsize=(11, 9))\n",
        "\n",
        "# Generate a custom diverging colormap\n",
        "cmap = sns.diverging_palette(230, 20, as_cmap=True)\n",
        "\n",
        "# Draw the heatmap with the mask and correct aspect ratio\n",
        "sns.heatmap(corr, mask=mask, cmap=cmap, center=0,\n",
        "            square=True, linewidths=.5, cbar_kws={\"shrink\": .5})"
      ],
      "execution_count": 32,
      "outputs": [
        {
          "output_type": "execute_result",
          "data": {
            "text/plain": [
              "<matplotlib.axes._subplots.AxesSubplot at 0x7f098cca28d0>"
            ]
          },
          "metadata": {
            "tags": []
          },
          "execution_count": 32
        },
        {
          "output_type": "display_data",
          "data": {
            "image/png": "[encoded data removed]",
            "text/plain": [
              "<Figure size 792x648 with 2 Axes>"
            ]
          },
          "metadata": {
            "tags": [],
            "needs_background": "light"
          }
        }
      ]
    },
    {
      "cell_type": "markdown",
      "metadata": {
        "id": "rzxsSZU2vgA4"
      },
      "source": [
        "O mesmo para as linhagens celulares"
      ]
    },
    {
      "cell_type": "code",
      "metadata": {
        "colab": {
          "base_uri": "https://localhost:8080/",
          "height": 309
        },
        "id": "9a7cPODcvW5Y",
        "outputId": "a9cb71d8-ad18-4096-9009-42e03688328b"
      },
      "source": [
        "dados.loc[:,'c-0':'c-50'].corr().head()"
      ],
      "execution_count": 33,
      "outputs": [
        {
          "output_type": "execute_result",
          "data": {
            "text/html": [
              "<div>\n",
              "<style scoped>\n",
              "    .dataframe tbody tr th:only-of-type {\n",
              "        vertical-align: middle;\n",
              "    }\n",
              "\n",
              "    .dataframe tbody tr th {\n",
              "        vertical-align: top;\n",
              "    }\n",
              "\n",
              "    .dataframe thead th {\n",
              "        text-align: right;\n",
              "    }\n",
              "</style>\n",
              "<table border=\"1\" class=\"dataframe\">\n",
              "  <thead>\n",
              "    <tr style=\"text-align: right;\">\n",
              "      <th></th>\n",
              "      <th>c-0</th>\n",
              "      <th>c-1</th>\n",
              "      <th>c-2</th>\n",
              "      <th>c-3</th>\n",
              "      <th>c-4</th>\n",
              "      <th>c-5</th>\n",
              "      <th>c-6</th>\n",
              "      <th>c-7</th>\n",
              "      <th>c-8</th>\n",
              "      <th>c-9</th>\n",
              "      <th>c-10</th>\n",
              "      <th>c-11</th>\n",
              "      <th>c-12</th>\n",
              "      <th>c-13</th>\n",
              "      <th>c-14</th>\n",
              "      <th>c-15</th>\n",
              "      <th>c-16</th>\n",
              "      <th>c-17</th>\n",
              "      <th>c-18</th>\n",
              "      <th>c-19</th>\n",
              "      <th>c-20</th>\n",
              "      <th>c-21</th>\n",
              "      <th>c-22</th>\n",
              "      <th>c-23</th>\n",
              "      <th>c-24</th>\n",
              "      <th>c-25</th>\n",
              "      <th>c-26</th>\n",
              "      <th>c-27</th>\n",
              "      <th>c-28</th>\n",
              "      <th>c-29</th>\n",
              "      <th>c-30</th>\n",
              "      <th>c-31</th>\n",
              "      <th>c-32</th>\n",
              "      <th>c-33</th>\n",
              "      <th>c-34</th>\n",
              "      <th>c-35</th>\n",
              "      <th>c-36</th>\n",
              "      <th>c-37</th>\n",
              "      <th>c-38</th>\n",
              "      <th>c-39</th>\n",
              "      <th>c-40</th>\n",
              "      <th>c-41</th>\n",
              "      <th>c-42</th>\n",
              "      <th>c-43</th>\n",
              "      <th>c-44</th>\n",
              "      <th>c-45</th>\n",
              "      <th>c-46</th>\n",
              "      <th>c-47</th>\n",
              "      <th>c-48</th>\n",
              "      <th>c-49</th>\n",
              "      <th>c-50</th>\n",
              "    </tr>\n",
              "  </thead>\n",
              "  <tbody>\n",
              "    <tr>\n",
              "      <th>c-0</th>\n",
              "      <td>1.000000</td>\n",
              "      <td>0.827336</td>\n",
              "      <td>0.848472</td>\n",
              "      <td>0.798830</td>\n",
              "      <td>0.840695</td>\n",
              "      <td>0.844469</td>\n",
              "      <td>0.811946</td>\n",
              "      <td>0.793171</td>\n",
              "      <td>0.842977</td>\n",
              "      <td>0.759971</td>\n",
              "      <td>0.850533</td>\n",
              "      <td>0.832837</td>\n",
              "      <td>0.808033</td>\n",
              "      <td>0.836838</td>\n",
              "      <td>0.823716</td>\n",
              "      <td>0.827496</td>\n",
              "      <td>0.788947</td>\n",
              "      <td>0.831436</td>\n",
              "      <td>0.797051</td>\n",
              "      <td>0.796719</td>\n",
              "      <td>0.818420</td>\n",
              "      <td>0.823586</td>\n",
              "      <td>0.717807</td>\n",
              "      <td>0.805687</td>\n",
              "      <td>0.836447</td>\n",
              "      <td>0.837448</td>\n",
              "      <td>0.815484</td>\n",
              "      <td>0.840909</td>\n",
              "      <td>0.824231</td>\n",
              "      <td>0.807981</td>\n",
              "      <td>0.818558</td>\n",
              "      <td>0.855363</td>\n",
              "      <td>0.831066</td>\n",
              "      <td>0.820803</td>\n",
              "      <td>0.828947</td>\n",
              "      <td>0.829693</td>\n",
              "      <td>0.839386</td>\n",
              "      <td>0.774960</td>\n",
              "      <td>0.806885</td>\n",
              "      <td>0.849807</td>\n",
              "      <td>0.847857</td>\n",
              "      <td>0.848941</td>\n",
              "      <td>0.847747</td>\n",
              "      <td>0.827377</td>\n",
              "      <td>0.847072</td>\n",
              "      <td>0.824247</td>\n",
              "      <td>0.816332</td>\n",
              "      <td>0.819386</td>\n",
              "      <td>0.778280</td>\n",
              "      <td>0.792811</td>\n",
              "      <td>0.797689</td>\n",
              "    </tr>\n",
              "    <tr>\n",
              "      <th>c-1</th>\n",
              "      <td>0.827336</td>\n",
              "      <td>1.000000</td>\n",
              "      <td>0.901416</td>\n",
              "      <td>0.808364</td>\n",
              "      <td>0.879258</td>\n",
              "      <td>0.869569</td>\n",
              "      <td>0.876924</td>\n",
              "      <td>0.793199</td>\n",
              "      <td>0.879892</td>\n",
              "      <td>0.812345</td>\n",
              "      <td>0.866297</td>\n",
              "      <td>0.884532</td>\n",
              "      <td>0.861089</td>\n",
              "      <td>0.880177</td>\n",
              "      <td>0.820911</td>\n",
              "      <td>0.857797</td>\n",
              "      <td>0.771984</td>\n",
              "      <td>0.843076</td>\n",
              "      <td>0.861134</td>\n",
              "      <td>0.820399</td>\n",
              "      <td>0.837626</td>\n",
              "      <td>0.852621</td>\n",
              "      <td>0.756086</td>\n",
              "      <td>0.812062</td>\n",
              "      <td>0.874647</td>\n",
              "      <td>0.829208</td>\n",
              "      <td>0.887230</td>\n",
              "      <td>0.853246</td>\n",
              "      <td>0.861559</td>\n",
              "      <td>0.789314</td>\n",
              "      <td>0.816042</td>\n",
              "      <td>0.889619</td>\n",
              "      <td>0.837788</td>\n",
              "      <td>0.866130</td>\n",
              "      <td>0.865169</td>\n",
              "      <td>0.840517</td>\n",
              "      <td>0.877007</td>\n",
              "      <td>0.779697</td>\n",
              "      <td>0.890506</td>\n",
              "      <td>0.835689</td>\n",
              "      <td>0.891745</td>\n",
              "      <td>0.870896</td>\n",
              "      <td>0.891842</td>\n",
              "      <td>0.869508</td>\n",
              "      <td>0.851121</td>\n",
              "      <td>0.858537</td>\n",
              "      <td>0.828145</td>\n",
              "      <td>0.854667</td>\n",
              "      <td>0.853745</td>\n",
              "      <td>0.845159</td>\n",
              "      <td>0.839386</td>\n",
              "    </tr>\n",
              "    <tr>\n",
              "      <th>c-2</th>\n",
              "      <td>0.848472</td>\n",
              "      <td>0.901416</td>\n",
              "      <td>1.000000</td>\n",
              "      <td>0.830759</td>\n",
              "      <td>0.909991</td>\n",
              "      <td>0.882794</td>\n",
              "      <td>0.898819</td>\n",
              "      <td>0.812980</td>\n",
              "      <td>0.896087</td>\n",
              "      <td>0.821522</td>\n",
              "      <td>0.892033</td>\n",
              "      <td>0.904968</td>\n",
              "      <td>0.879638</td>\n",
              "      <td>0.910497</td>\n",
              "      <td>0.841421</td>\n",
              "      <td>0.884464</td>\n",
              "      <td>0.800587</td>\n",
              "      <td>0.879281</td>\n",
              "      <td>0.881011</td>\n",
              "      <td>0.824149</td>\n",
              "      <td>0.853648</td>\n",
              "      <td>0.878793</td>\n",
              "      <td>0.761439</td>\n",
              "      <td>0.832908</td>\n",
              "      <td>0.887800</td>\n",
              "      <td>0.859023</td>\n",
              "      <td>0.899897</td>\n",
              "      <td>0.879307</td>\n",
              "      <td>0.876141</td>\n",
              "      <td>0.824171</td>\n",
              "      <td>0.851934</td>\n",
              "      <td>0.906052</td>\n",
              "      <td>0.850681</td>\n",
              "      <td>0.890263</td>\n",
              "      <td>0.880173</td>\n",
              "      <td>0.852595</td>\n",
              "      <td>0.887820</td>\n",
              "      <td>0.799599</td>\n",
              "      <td>0.905449</td>\n",
              "      <td>0.866557</td>\n",
              "      <td>0.909829</td>\n",
              "      <td>0.889876</td>\n",
              "      <td>0.909086</td>\n",
              "      <td>0.886977</td>\n",
              "      <td>0.880717</td>\n",
              "      <td>0.875814</td>\n",
              "      <td>0.854217</td>\n",
              "      <td>0.874174</td>\n",
              "      <td>0.863002</td>\n",
              "      <td>0.853704</td>\n",
              "      <td>0.848724</td>\n",
              "    </tr>\n",
              "    <tr>\n",
              "      <th>c-3</th>\n",
              "      <td>0.798830</td>\n",
              "      <td>0.808364</td>\n",
              "      <td>0.830759</td>\n",
              "      <td>1.000000</td>\n",
              "      <td>0.831523</td>\n",
              "      <td>0.829550</td>\n",
              "      <td>0.805506</td>\n",
              "      <td>0.752940</td>\n",
              "      <td>0.830369</td>\n",
              "      <td>0.765626</td>\n",
              "      <td>0.818465</td>\n",
              "      <td>0.828218</td>\n",
              "      <td>0.803839</td>\n",
              "      <td>0.822104</td>\n",
              "      <td>0.788432</td>\n",
              "      <td>0.818493</td>\n",
              "      <td>0.758345</td>\n",
              "      <td>0.804018</td>\n",
              "      <td>0.806834</td>\n",
              "      <td>0.781198</td>\n",
              "      <td>0.791121</td>\n",
              "      <td>0.816744</td>\n",
              "      <td>0.742109</td>\n",
              "      <td>0.792355</td>\n",
              "      <td>0.828853</td>\n",
              "      <td>0.829277</td>\n",
              "      <td>0.807726</td>\n",
              "      <td>0.816247</td>\n",
              "      <td>0.818892</td>\n",
              "      <td>0.790481</td>\n",
              "      <td>0.796522</td>\n",
              "      <td>0.830602</td>\n",
              "      <td>0.796222</td>\n",
              "      <td>0.804081</td>\n",
              "      <td>0.811296</td>\n",
              "      <td>0.805880</td>\n",
              "      <td>0.820989</td>\n",
              "      <td>0.747433</td>\n",
              "      <td>0.813351</td>\n",
              "      <td>0.827805</td>\n",
              "      <td>0.833075</td>\n",
              "      <td>0.821351</td>\n",
              "      <td>0.838118</td>\n",
              "      <td>0.821934</td>\n",
              "      <td>0.813087</td>\n",
              "      <td>0.806219</td>\n",
              "      <td>0.808859</td>\n",
              "      <td>0.812784</td>\n",
              "      <td>0.804207</td>\n",
              "      <td>0.818632</td>\n",
              "      <td>0.821138</td>\n",
              "    </tr>\n",
              "    <tr>\n",
              "      <th>c-4</th>\n",
              "      <td>0.840695</td>\n",
              "      <td>0.879258</td>\n",
              "      <td>0.909991</td>\n",
              "      <td>0.831523</td>\n",
              "      <td>1.000000</td>\n",
              "      <td>0.883526</td>\n",
              "      <td>0.893285</td>\n",
              "      <td>0.808096</td>\n",
              "      <td>0.888384</td>\n",
              "      <td>0.822614</td>\n",
              "      <td>0.890057</td>\n",
              "      <td>0.904082</td>\n",
              "      <td>0.870384</td>\n",
              "      <td>0.911130</td>\n",
              "      <td>0.839991</td>\n",
              "      <td>0.879147</td>\n",
              "      <td>0.779366</td>\n",
              "      <td>0.879616</td>\n",
              "      <td>0.893702</td>\n",
              "      <td>0.807685</td>\n",
              "      <td>0.833680</td>\n",
              "      <td>0.885335</td>\n",
              "      <td>0.768383</td>\n",
              "      <td>0.854108</td>\n",
              "      <td>0.872477</td>\n",
              "      <td>0.872339</td>\n",
              "      <td>0.900002</td>\n",
              "      <td>0.869316</td>\n",
              "      <td>0.875701</td>\n",
              "      <td>0.808720</td>\n",
              "      <td>0.851560</td>\n",
              "      <td>0.901149</td>\n",
              "      <td>0.836846</td>\n",
              "      <td>0.891190</td>\n",
              "      <td>0.865017</td>\n",
              "      <td>0.851393</td>\n",
              "      <td>0.887747</td>\n",
              "      <td>0.792168</td>\n",
              "      <td>0.900725</td>\n",
              "      <td>0.870204</td>\n",
              "      <td>0.904528</td>\n",
              "      <td>0.880368</td>\n",
              "      <td>0.913242</td>\n",
              "      <td>0.875934</td>\n",
              "      <td>0.878659</td>\n",
              "      <td>0.869324</td>\n",
              "      <td>0.862019</td>\n",
              "      <td>0.862095</td>\n",
              "      <td>0.862338</td>\n",
              "      <td>0.855029</td>\n",
              "      <td>0.851843</td>\n",
              "    </tr>\n",
              "  </tbody>\n",
              "</table>\n",
              "</div>"
            ],
            "text/plain": [
              "          c-0       c-1       c-2  ...      c-48      c-49      c-50\n",
              "c-0  1.000000  0.827336  0.848472  ...  0.778280  0.792811  0.797689\n",
              "c-1  0.827336  1.000000  0.901416  ...  0.853745  0.845159  0.839386\n",
              "c-2  0.848472  0.901416  1.000000  ...  0.863002  0.853704  0.848724\n",
              "c-3  0.798830  0.808364  0.830759  ...  0.804207  0.818632  0.821138\n",
              "c-4  0.840695  0.879258  0.909991  ...  0.862338  0.855029  0.851843\n",
              "\n",
              "[5 rows x 51 columns]"
            ]
          },
          "metadata": {
            "tags": []
          },
          "execution_count": 33
        }
      ]
    },
    {
      "cell_type": "code",
      "metadata": {
        "colab": {
          "base_uri": "https://localhost:8080/",
          "height": 566
        },
        "id": "skILCbmsvnft",
        "outputId": "c9f45e44-63e2-4858-d5fc-ab3880eac18c"
      },
      "source": [
        "corr = dados.loc[:,'c-0':'c-50'].corr()\n",
        "\n",
        "# Generate a mask for the upper triangle\n",
        "mask = np.triu(np.ones_like(corr, dtype=bool))\n",
        "\n",
        "# Set up the matplotlib figure\n",
        "f, ax = plt.subplots(figsize=(11, 9))\n",
        "\n",
        "# Generate a custom diverging colormap\n",
        "cmap = sns.diverging_palette(230, 20, as_cmap=True)\n",
        "\n",
        "# Draw the heatmap with the mask and correct aspect ratio\n",
        "sns.heatmap(corr, mask=mask, cmap=cmap, center=0,\n",
        "            square=True, linewidths=.5, cbar_kws={\"shrink\": .5})"
      ],
      "execution_count": 34,
      "outputs": [
        {
          "output_type": "execute_result",
          "data": {
            "text/plain": [
              "<matplotlib.axes._subplots.AxesSubplot at 0x7f098c479650>"
            ]
          },
          "metadata": {
            "tags": []
          },
          "execution_count": 34
        },
        {
          "output_type": "display_data",
          "data": {
            "image/png": "[encoded data removed]",
            "text/plain": [
              "<Figure size 792x648 with 2 Axes>"
            ]
          },
          "metadata": {
            "tags": [],
            "needs_background": "light"
          }
        }
      ]
    }
  ]
}