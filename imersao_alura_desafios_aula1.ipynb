{
  "nbformat": 4,
  "nbformat_minor": 0,
  "metadata": {
    "colab": {
      "name": "imersao_alura_desafios_aula1.ipynb",
      "provenance": [],
      "authorship_tag": "ABX9TyP4OmORI3sb79uwT3d0Ivbq",
      "include_colab_link": true
    },
    "kernelspec": {
      "name": "python3",
      "display_name": "Python 3"
    },
    "language_info": {
      "name": "python"
    }
  },
  "cells": [
    {
      "cell_type": "markdown",
      "metadata": {
        "id": "view-in-github",
        "colab_type": "text"
      },
      "source": [
        "<a href=\"https://colab.research.google.com/github/israelnicolau/imersao_alura_machine_learning/blob/main/imersao_alura_desafios_aula1.ipynb\" target=\"_parent\"><img src=\"https://colab.research.google.com/assets/colab-badge.svg\" alt=\"Open In Colab\"/></a>"
      ]
    },
    {
      "cell_type": "markdown",
      "metadata": {
        "id": "hgBSF5aQY2DV"
      },
      "source": [
        "##Preparando dados"
      ]
    },
    {
      "cell_type": "code",
      "metadata": {
        "id": "960kv8ezX_hI"
      },
      "source": [
        "import pandas as pd\n",
        "url_dados = \"https://github.com/alura-cursos/imersaodados3/blob/main/dados/dados_experimentos.zip?raw=true\"\n",
        "dados = pd.read_csv(url_dados, compression='zip')\n",
        "dados.columns = dados.columns.str.replace('-','')\n",
        "dados"
      ],
      "execution_count": null,
      "outputs": []
    },
    {
      "cell_type": "markdown",
      "metadata": {
        "id": "uN6FEwEUuPsV"
      },
      "source": [
        "###Desafio 01: Investigar por que a classe tratamento é tão desbalanceada?"
      ]
    },
    {
      "cell_type": "markdown",
      "metadata": {
        "id": "mHiqNGQtuVKT"
      },
      "source": [
        "Em um mesmo grupo de controle podem ser testadas muitas drogas, logo com_droga é maior que com_controle "
      ]
    },
    {
      "cell_type": "markdown",
      "metadata": {
        "id": "V7FG5aPMX9mM"
      },
      "source": [
        "###Desafio 02: Plotar as últimas 5 linhas da tabela"
      ]
    },
    {
      "cell_type": "code",
      "metadata": {
        "id": "rObHHd3qYOg-"
      },
      "source": [
        "dados.tail()"
      ],
      "execution_count": null,
      "outputs": []
    },
    {
      "cell_type": "markdown",
      "metadata": {
        "id": "3PsD0_o6bt5J"
      },
      "source": [
        "###Desafio 03: Proporção das classes de tratamento"
      ]
    },
    {
      "cell_type": "code",
      "metadata": {
        "colab": {
          "base_uri": "https://localhost:8080/",
          "height": 373
        },
        "id": "xM_Fvhyybvzm",
        "outputId": "440092b4-17b9-4149-b026-a24c9b204453"
      },
      "source": [
        "dados['tratamento'].value_counts().plot.bar()\n",
        "dados['tratamento'].value_counts(normalize=True)"
      ],
      "execution_count": null,
      "outputs": [
        {
          "output_type": "execute_result",
          "data": {
            "text/plain": [
              "com_droga       0.921643\n",
              "com_controle    0.078357\n",
              "Name: tratamento, dtype: float64"
            ]
          },
          "metadata": {
            "tags": []
          },
          "execution_count": 50
        },
        {
          "output_type": "display_data",
          "data": {
            "image/png": "[encoded data removed]",
            "text/plain": [
              "<Figure size 432x288 with 1 Axes>"
            ]
          },
          "metadata": {
            "tags": [],
            "needs_background": "light"
          }
        }
      ]
    },
    {
      "cell_type": "markdown",
      "metadata": {
        "id": "AWAEycjjeqMC"
      },
      "source": [
        "###Desafio 04: Quantas tipos de drogas foram investigados"
      ]
    },
    {
      "cell_type": "code",
      "metadata": {
        "id": "8gRcaKdBexxz"
      },
      "source": [
        "dados['droga'].nunique()"
      ],
      "execution_count": null,
      "outputs": []
    },
    {
      "cell_type": "code",
      "metadata": {
        "id": "e3dthl_2ghTg"
      },
      "source": [
        "dados['droga'].value_counts()"
      ],
      "execution_count": null,
      "outputs": []
    },
    {
      "cell_type": "code",
      "metadata": {
        "id": "eezIoPgee04v"
      },
      "source": [
        "dados['droga'].value_counts().head().plot.hist(orientation='horizontal')"
      ],
      "execution_count": null,
      "outputs": []
    },
    {
      "cell_type": "markdown",
      "metadata": {
        "id": "y9O69dOTmai1"
      },
      "source": [
        "###Desafio 05: Procurar na documentação o método query(pandas)"
      ]
    },
    {
      "cell_type": "code",
      "metadata": {
        "id": "jKhaBz8Xmcgk"
      },
      "source": [
        "dados.query('g0 > 1').g0.value_counts().head(3)"
      ],
      "execution_count": null,
      "outputs": []
    },
    {
      "cell_type": "markdown",
      "metadata": {
        "id": "GwrW0tMvsti3"
      },
      "source": [
        "###Desafio 06: Renomear as colunas tirando o hífen"
      ]
    },
    {
      "cell_type": "code",
      "metadata": {
        "id": "UvmZDxI3s2i9"
      },
      "source": [
        "dados.columns = dados.columns.str.replace('-', '')\n",
        "dados.columns"
      ],
      "execution_count": null,
      "outputs": []
    },
    {
      "cell_type": "markdown",
      "metadata": {
        "id": "jZK0MRY4tEOY"
      },
      "source": [
        "###Desafio 07: Deixar os gráficos bonitões (Matplotlib.pyplot)"
      ]
    },
    {
      "cell_type": "code",
      "metadata": {
        "colab": {
          "base_uri": "https://localhost:8080/",
          "height": 366
        },
        "id": "My3vakYmtJFr",
        "outputId": "fa381cca-d290-4985-aa3d-166273568695"
      },
      "source": [
        "import matplotlib.pyplot as plt\n",
        "tipos_trat = dados['tratamento'].value_counts()\n",
        "\n",
        "labels = dados.tratamento.unique()\n",
        "form_labels = [label.replace('_', ' ').capitalize() for label in labels] \n",
        "explode = (0, 0.15)\n",
        "plt.title('Tipos de tratamento')\n",
        "\n",
        "\n",
        "plt.pie(tipos_trat, labels=form_labels, shadow = True,explode=explode, autopct='%1.1f%%')\n"
      ],
      "execution_count": null,
      "outputs": [
        {
          "output_type": "execute_result",
          "data": {
            "text/plain": [
              "([<matplotlib.patches.Wedge at 0x7f428c2af490>,\n",
              "  <matplotlib.patches.Wedge at 0x7f428c2af410>],\n",
              " [Text(-1.0668390543299489, 0.2680567703983256, 'Com droga'),\n",
              "  Text(1.2123171000632125, -0.3046099947380632, 'Com controle')],\n",
              " [Text(-0.5819122114526993, 0.14621278385363212, '92.2%'),\n",
              "  Text(0.7273902600379274, -0.1827659968428379, '7.8%')])"
            ]
          },
          "metadata": {
            "tags": []
          },
          "execution_count": 78
        },
        {
          "output_type": "display_data",
          "data": {
            "image/png": "[encoded data removed]",
            "text/plain": [
              "<Figure size 432x288 with 1 Axes>"
            ]
          },
          "metadata": {
            "tags": []
          }
        }
      ]
    },
    {
      "cell_type": "markdown",
      "metadata": {
        "id": "1p_F1hV4vGVp"
      },
      "source": [
        "###Desafio 08: Resumo do que você aprendeu com os dados"
      ]
    },
    {
      "cell_type": "markdown",
      "metadata": {
        "id": "JmmnrIaybecL"
      },
      "source": [
        "Aprendi que antes de iniciarmos a programação em si devemos analisar a base de dadosa para poupar muito serviço futuro e para isso devemos estudar muito bem o problema que está sendo trabalhado, o que também é essencial para definir uma estratégia de como deve ser feito o programa e qual sua finalidade. Na parte técnica aprendi diversas ferramentas dentro da biblioteca matplotlib."
      ]
    }
  ]
}