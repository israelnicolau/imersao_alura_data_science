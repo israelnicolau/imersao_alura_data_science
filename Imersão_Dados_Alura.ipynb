{
  "nbformat": 4,
  "nbformat_minor": 0,
  "metadata": {
    "colab": {
      "name": "Imersão_Dados_Alura",
      "provenance": [],
      "collapsed_sections": [],
      "authorship_tag": "ABX9TyOO1olzUc7eV/L9Mv2cRa6d",
      "include_colab_link": true
    },
    "kernelspec": {
      "name": "python3",
      "display_name": "Python 3"
    },
    "language_info": {
      "name": "python"
    }
  },
  "cells": [
    {
      "cell_type": "markdown",
      "metadata": {
        "id": "view-in-github",
        "colab_type": "text"
      },
      "source": [
        "<a href=\"https://colab.research.google.com/github/israelnicolau/imersao_alura_machine_learning/blob/main/Imers%C3%A3o_Dados_Alura.ipynb\" target=\"_parent\"><img src=\"https://colab.research.google.com/assets/colab-badge.svg\" alt=\"Open In Colab\"/></a>"
      ]
    },
    {
      "cell_type": "markdown",
      "metadata": {
        "id": "cBhzYTmAOQWa"
      },
      "source": [
        "Importar e exibir planilha\n"
      ]
    },
    {
      "cell_type": "code",
      "metadata": {
        "id": "wr388SJ1gA_Q"
      },
      "source": [
        "import pandas as pd\n",
        "\n",
        "url_dados =\"https://github.com/alura-cursos/imersaodados3/blob/main/dados/dados_experimentos.zip?raw=true\" \n",
        "\n",
        "dados = pd.read_csv(url_dados, compression = \"zip\")\n",
        "dados"
      ],
      "execution_count": null,
      "outputs": []
    },
    {
      "cell_type": "markdown",
      "metadata": {
        "id": "fR7nwTHOPk0U"
      },
      "source": [
        "Avaliar colunas\n"
      ]
    },
    {
      "cell_type": "code",
      "metadata": {
        "id": "2HEloyBOOZYA"
      },
      "source": [
        "dados['tratamento']"
      ],
      "execution_count": null,
      "outputs": []
    },
    {
      "cell_type": "code",
      "metadata": {
        "id": "M-k5caj_OLs4"
      },
      "source": [
        "dados['tratamento'].unique()"
      ],
      "execution_count": null,
      "outputs": []
    },
    {
      "cell_type": "code",
      "metadata": {
        "id": "pWMclXq0O7rN"
      },
      "source": [
        "dados['tempo'].unique()"
      ],
      "execution_count": null,
      "outputs": []
    },
    {
      "cell_type": "code",
      "metadata": {
        "id": "pLuvUCYMPgke"
      },
      "source": [
        "dados['dose'].unique()"
      ],
      "execution_count": null,
      "outputs": []
    },
    {
      "cell_type": "code",
      "metadata": {
        "id": "dFDMGdZvPzWs"
      },
      "source": [
        "dados['droga'].unique()"
      ],
      "execution_count": null,
      "outputs": []
    },
    {
      "cell_type": "code",
      "metadata": {
        "id": "R0wvuPdqQXLg"
      },
      "source": [
        "dados['g-0'].unique()"
      ],
      "execution_count": null,
      "outputs": []
    },
    {
      "cell_type": "markdown",
      "metadata": {
        "id": "S2gMcZGmQsnS"
      },
      "source": [
        "Quantificar as variáveis chave"
      ]
    },
    {
      "cell_type": "code",
      "metadata": {
        "id": "WR7-tFgiQ3vz"
      },
      "source": [
        "dados['tratamento'].value_counts()"
      ],
      "execution_count": null,
      "outputs": []
    },
    {
      "cell_type": "code",
      "metadata": {
        "id": "6S31jPdqUB8P"
      },
      "source": [
        "dados['dose'].value_counts()"
      ],
      "execution_count": null,
      "outputs": []
    },
    {
      "cell_type": "code",
      "metadata": {
        "id": "giWXEv7qUy1T"
      },
      "source": [
        "dados['tratamento'].value_counts(normalize=True)"
      ],
      "execution_count": null,
      "outputs": []
    },
    {
      "cell_type": "code",
      "metadata": {
        "id": "Hr6zN6inVDO0"
      },
      "source": [
        "dados['dose'].value_counts(normalize=True)"
      ],
      "execution_count": null,
      "outputs": []
    },
    {
      "cell_type": "code",
      "metadata": {
        "id": "WbZ_Ac6ZVRjX"
      },
      "source": [
        "dados['tratamento'].value_counts().plot.pie()"
      ],
      "execution_count": null,
      "outputs": []
    },
    {
      "cell_type": "code",
      "metadata": {
        "id": "CDnBiLxnVc41"
      },
      "source": [
        "dados['tempo'].value_counts().plot.pie()"
      ],
      "execution_count": null,
      "outputs": []
    },
    {
      "cell_type": "code",
      "metadata": {
        "id": "CUAKQ4uOVmZc"
      },
      "source": [
        "dados['tempo'].value_counts().plot.bar()"
      ],
      "execution_count": null,
      "outputs": []
    },
    {
      "cell_type": "code",
      "metadata": {
        "id": "0JzczmWEV3X3"
      },
      "source": [
        "dados['g-0'] > 0"
      ],
      "execution_count": null,
      "outputs": []
    },
    {
      "cell_type": "code",
      "metadata": {
        "id": "fepvaGdoWL1G"
      },
      "source": [
        "dados_filtrados = dados[dados['g-0'] > 0]\n",
        "dados_filtrados.head()"
      ],
      "execution_count": null,
      "outputs": []
    },
    {
      "cell_type": "markdown",
      "metadata": {
        "id": "LkhdjLlmXFII"
      },
      "source": [
        "parte2\n"
      ]
    }
  ]
}